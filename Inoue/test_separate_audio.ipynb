{
 "cells": [
  {
   "cell_type": "code",
   "execution_count": null,
   "metadata": {},
   "outputs": [],
   "source": [
    "from plotly.subplots import make_subplots\n",
    "import plotly.graph_objects as go\n",
    "import matplotlib.pyplot as plt\n",
    "import matplotlib.pyplot as plt\n",
    "import IPython.display as ipd\n",
    "import plotly.express as px\n",
    "import librosa.display\n",
    "import pandas as pd\n",
    "import numpy as  np\n",
    "import librosa\n",
    "import warnings\n",
    "import IPython\n",
    "import os\n",
    "\n",
    "plt.style.use(\"ggplot\")from plotly.subplots import make_subplots\n",
    "import plotly.graph_objects as go\n",
    "import matplotlib.pyplot as plt\n",
    "import matplotlib.pyplot as plt\n",
    "import IPython.display as ipd\n",
    "import plotly.express as px\n",
    "import librosa.display\n",
    "import pandas as pd\n",
    "import numpy as  np\n",
    "import librosa\n",
    "import warnings\n",
    "import IPython\n",
    "import os\n",
    "\n",
    "plt.style.use(\"ggplot\")"
   ]
  },
  {
   "cell_type": "code",
   "execution_count": null,
   "metadata": {},
   "outputs": [
    {
     "output_type": "error",
     "ename": "Error",
     "evalue": "Jupyter cannot be started. Error attempting to locate jupyter: Data Science libraries jupyter and notebook are not installed in interpreter Python 3.5.1 64-bit ('3.5.1': pyenv).",
     "traceback": [
      "Error: Jupyter cannot be started. Error attempting to locate jupyter: Data Science libraries jupyter and notebook are not installed in interpreter Python 3.5.1 64-bit ('3.5.1': pyenv).",
      "at b.startServer (/Users/Inoue.S/.vscode/extensions/ms-python.python-2020.6.91350/out/client/extension.js:48:288041)",
      "at runMicrotasks (<anonymous>)",
      "at processTicksAndRejections (internal/process/task_queues.js:85:5)",
      "at b.createServer (/Users/Inoue.S/.vscode/extensions/ms-python.python-2020.6.91350/out/client/extension.js:48:287483)",
      "at connect (/Users/Inoue.S/.vscode/extensions/ms-python.python-2020.6.91350/out/client/extension.js:48:413515)",
      "at P.ensureConnectionAndNotebookImpl (/Users/Inoue.S/.vscode/extensions/ms-python.python-2020.6.91350/out/client/extension.js:24:434959)",
      "at P.ensureConnectionAndNotebook (/Users/Inoue.S/.vscode/extensions/ms-python.python-2020.6.91350/out/client/extension.js:24:434637)",
      "at P.clearResult (/Users/Inoue.S/.vscode/extensions/ms-python.python-2020.6.91350/out/client/extension.js:24:430563)",
      "at P.reexecuteCell (/Users/Inoue.S/.vscode/extensions/ms-python.python-2020.6.91350/out/client/extension.js:24:416935)",
      "at P.reexecuteCells (/Users/Inoue.S/.vscode/extensions/ms-python.python-2020.6.91350/out/client/extension.js:24:413738)"
     ]
    }
   ],
   "source": [
    "train = pd.read_csv(\"../input/birdsong-recognition/train.csv\")\n",
    "train.info()train = pd.read_csv(\"../input/birdsong-recognition/train.csv\")\n",
    "species=train.species.value_counts()\n",
    "birds=train.ebird_code.unique()\n",
    "path=\"../input/birdsong-recognition/train_audio/\"species=train.species.value_counts()\n",
    "birds=train.ebird_code.unique()\n",
    "path=\"../input/birdsong-recognition/train_audio/\""
   ]
  },
  {
   "cell_type": "code",
   "execution_count": null,
   "metadata": {},
   "outputs": [],
   "source": [
    "bird_num = 1\n",
    "file_num = 2\n",
    "\n",
    "for bird_name in birds[:bird_num]:\n",
    "    print(bird_name)\n",
    "    info_each_bird = train[train.ebird_code==bird_name]\n",
    "    files = info_each_bird['filename'].values\n",
    "    for i,file in enumerate(files[:file_num]):\n",
    "        print(\"====INFO====\")\n",
    "        #print(info_each_bird.iloc[i])\n",
    "        print(\"============\")\n",
    "        audio_path=os.path.join(path,bird_name,file)\n",
    "        x , sr = librosa.load(audio_path)\n",
    "        IPython.display.display(ipd.Audio(x, rate=sr))\n",
    "        print(\"======SEP======\")\n",
    "        x_harmonic, x_percussive = librosa.effects.hpss(x)\n",
    "        IPython.display.display(ipd.Audio(x_harmonic, rate=sr))\n",
    "        IPython.display.display(ipd.Audio(x_percussive, rate=sr))"
   ]
  }
 ],
 "metadata": {
  "language_info": {
   "codemirror_mode": {
    "name": "ipython",
    "version": 3
   },
   "file_extension": ".py",
   "mimetype": "text/x-python",
   "name": "python",
   "nbconvert_exporter": "python",
   "pygments_lexer": "ipython3",
   "version": 3
  },
  "orig_nbformat": 2
 },
 "nbformat": 4,
 "nbformat_minor": 2
}