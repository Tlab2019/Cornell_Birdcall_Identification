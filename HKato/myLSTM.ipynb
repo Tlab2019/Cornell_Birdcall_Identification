{
 "cells": [
  {
   "cell_type": "code",
   "execution_count": 33,
   "metadata": {},
   "outputs": [],
   "source": [
    "import numpy as np\n",
    "import pandas as pd\n",
    "import wave\n",
    "from scipy.io import wavfile\n",
    "import os\n",
    "import librosa\n",
    "import warnings\n",
    "from sklearn.utils import shuffle\n",
    "from sklearn.utils import class_weight\n",
    "import sklearn\n",
    "from tqdm import tqdm\n",
    "\n",
    "import tensorflow as tf\n",
    "from tensorflow.keras.models import Sequential\n",
    "from tensorflow.keras import layers\n",
    "from tensorflow.keras import Input\n",
    "from tensorflow.keras.models import Model\n",
    "from tensorflow.keras.callbacks import ModelCheckpoint, ReduceLROnPlateau, EarlyStopping\n",
    "from tensorflow.keras.utils import to_categorical\n",
    "from tensorflow.keras.layers import Dense, Flatten, Dropout, Activation, LSTM, SimpleRNN, Conv1D\n",
    "\n",
    "import plotly.graph_objects as go\n",
    "import matplotlib.pyplot as plt\n",
    "import seaborn as sns\n",
    "sns.set()"
   ]
  },
  {
   "cell_type": "markdown",
   "metadata": {},
   "source": [
    "# Read data"
   ]
  },
  {
   "cell_type": "code",
   "execution_count": 34,
   "metadata": {},
   "outputs": [],
   "source": [
    "train_df = pd.read_csv('./rawdata/train.csv')"
   ]
  },
  {
   "cell_type": "code",
   "execution_count": 35,
   "metadata": {},
   "outputs": [
    {
     "name": "stdout",
     "output_type": "stream",
     "text": [
      "<class 'pandas.core.frame.DataFrame'>\n",
      "RangeIndex: 21375 entries, 0 to 21374\n",
      "Data columns (total 35 columns):\n",
      " #   Column            Non-Null Count  Dtype  \n",
      "---  ------            --------------  -----  \n",
      " 0   rating            21375 non-null  float64\n",
      " 1   playback_used     19575 non-null  object \n",
      " 2   ebird_code        21375 non-null  object \n",
      " 3   channels          21375 non-null  object \n",
      " 4   date              21375 non-null  object \n",
      " 5   pitch             21375 non-null  object \n",
      " 6   duration          21375 non-null  int64  \n",
      " 7   filename          21375 non-null  object \n",
      " 8   speed             21375 non-null  object \n",
      " 9   species           21375 non-null  object \n",
      " 10  number_of_notes   21375 non-null  object \n",
      " 11  title             21375 non-null  object \n",
      " 12  secondary_labels  21375 non-null  object \n",
      " 13  bird_seen         19575 non-null  object \n",
      " 14  sci_name          21375 non-null  object \n",
      " 15  location          21375 non-null  object \n",
      " 16  latitude          21375 non-null  object \n",
      " 17  sampling_rate     21375 non-null  object \n",
      " 18  type              21375 non-null  object \n",
      " 19  elevation         21375 non-null  object \n",
      " 20  description       15176 non-null  object \n",
      " 21  bitrate_of_mp3    21367 non-null  object \n",
      " 22  file_type         21375 non-null  object \n",
      " 23  volume            21375 non-null  object \n",
      " 24  background        8300 non-null   object \n",
      " 25  xc_id             21375 non-null  int64  \n",
      " 26  url               21375 non-null  object \n",
      " 27  country           21375 non-null  object \n",
      " 28  author            21375 non-null  object \n",
      " 29  primary_label     21375 non-null  object \n",
      " 30  longitude         21375 non-null  object \n",
      " 31  length            21375 non-null  object \n",
      " 32  time              21375 non-null  object \n",
      " 33  recordist         21375 non-null  object \n",
      " 34  license           21375 non-null  object \n",
      "dtypes: float64(1), int64(2), object(32)\n",
      "memory usage: 5.7+ MB\n"
     ]
    }
   ],
   "source": [
    "train_df.info()"
   ]
  },
  {
   "cell_type": "markdown",
   "metadata": {},
   "source": [
    "# Reduce data"
   ]
  },
  {
   "cell_type": "code",
   "execution_count": 36,
   "metadata": {},
   "outputs": [],
   "source": [
    "train_df = train_df.query(\"rating>=4\")   # データ量削減のために rating が 4 or 5 だけにする\n",
    "\n",
    "birds_count = {}\n",
    "for bird_species, count in zip(train_df.ebird_code.unique(), train_df.groupby(\"ebird_code\")[\"ebird_code\"].count().values):\n",
    "    birds_count[bird_species] = count"
   ]
  },
  {
   "cell_type": "code",
   "execution_count": 37,
   "metadata": {},
   "outputs": [
    {
     "data": {
      "application/vnd.plotly.v1+json": {
       "config": {
        "plotlyServerURL": "https://plot.ly"
       },
       "data": [
        {
         "type": "bar",
         "x": [
          "aldfly",
          "ameavo",
          "amebit",
          "amecro",
          "amegfi",
          "amekes",
          "amepip",
          "amered",
          "amerob",
          "amewig",
          "amewoo",
          "amtspa",
          "annhum",
          "astfly",
          "baisan",
          "baleag",
          "balori",
          "banswa",
          "barswa",
          "bawwar",
          "belkin1",
          "belspa2",
          "bewwre",
          "bkbcuc",
          "bkbmag1",
          "bkbwar",
          "bkcchi",
          "bkchum",
          "bkhgro",
          "bkpwar",
          "bktspa",
          "blkpho",
          "blugrb1",
          "blujay",
          "bnhcow",
          "boboli",
          "bongul",
          "brdowl",
          "brebla",
          "brespa",
          "brncre",
          "brnthr",
          "brthum",
          "brwhaw",
          "btbwar",
          "btnwar",
          "btywar",
          "buffle",
          "buggna",
          "buhvir",
          "bulori",
          "bushti",
          "buwtea",
          "buwwar",
          "cacwre",
          "calgul",
          "calqua",
          "camwar",
          "cangoo",
          "canwar",
          "canwre",
          "carwre",
          "casfin",
          "caster1",
          "casvir",
          "cedwax",
          "chispa",
          "chiswi",
          "chswar",
          "chukar",
          "clanut",
          "cliswa",
          "comgol",
          "comgra",
          "comloo",
          "commer",
          "comnig",
          "comrav",
          "comred",
          "comter",
          "comyel",
          "coohaw",
          "coshum",
          "cowscj1",
          "daejun",
          "doccor",
          "dowwoo",
          "dusfly",
          "eargre",
          "easblu",
          "easkin",
          "easmea",
          "easpho",
          "eastow",
          "eawpew",
          "eucdov",
          "eursta",
          "evegro",
          "fiespa",
          "fiscro",
          "foxspa",
          "gadwal",
          "gcrfin",
          "gnttow",
          "gnwtea",
          "gockin",
          "gocspa",
          "goleag",
          "grbher3",
          "grcfly",
          "greegr",
          "greroa",
          "greyel",
          "grhowl",
          "grnher",
          "grtgra",
          "grycat",
          "gryfly",
          "haiwoo",
          "hamfly",
          "hergul",
          "herthr",
          "hoomer",
          "hoowar",
          "horgre",
          "horlar",
          "houfin",
          "houspa",
          "houwre",
          "indbun",
          "juntit1",
          "killde",
          "labwoo",
          "larspa",
          "lazbun",
          "leabit",
          "leafly",
          "leasan",
          "lecthr",
          "lesgol",
          "lesnig",
          "lesyel",
          "lewwoo",
          "linspa",
          "lobcur",
          "lobdow",
          "logshr",
          "lotduc",
          "louwat",
          "macwar",
          "magwar",
          "mallar3",
          "marwre",
          "merlin",
          "moublu",
          "mouchi",
          "moudov",
          "norcar",
          "norfli",
          "norhar2",
          "normoc",
          "norpar",
          "norpin",
          "norsho",
          "norwat",
          "nrwswa",
          "nutwoo",
          "olsfly",
          "orcwar",
          "osprey",
          "ovenbi1",
          "palwar",
          "pasfly",
          "pecsan",
          "perfal",
          "phaino",
          "pibgre",
          "pilwoo",
          "pingro",
          "pinjay",
          "pinsis",
          "pinwar",
          "plsvir",
          "prawar",
          "purfin",
          "pygnut",
          "rebmer",
          "rebnut",
          "rebsap",
          "rebwoo",
          "redcro",
          "redhea",
          "reevir1",
          "renpha",
          "reshaw",
          "rethaw",
          "rewbla",
          "ribgul",
          "rinduc",
          "robgro",
          "rocpig",
          "rocwre",
          "rthhum",
          "ruckin",
          "rudduc",
          "rufgro",
          "rufhum",
          "rusbla",
          "sagspa1",
          "sagthr",
          "savspa",
          "saypho",
          "scatan",
          "scoori",
          "semplo",
          "semsan",
          "sheowl",
          "shshaw",
          "snobun",
          "snogoo",
          "solsan",
          "sonspa",
          "sora",
          "sposan",
          "spotow",
          "stejay",
          "swahaw",
          "swaspa",
          "swathr",
          "treswa",
          "truswa",
          "tuftit",
          "tunswa",
          "veery",
          "vesspa",
          "vigswa",
          "warvir",
          "wesblu",
          "wesgre",
          "weskin",
          "wesmea",
          "wessan",
          "westan",
          "wewpew",
          "whbnut",
          "whcspa",
          "whfibi",
          "whtspa",
          "whtswi",
          "wilfly",
          "wilsni1",
          "wiltur",
          "winwre3",
          "wlswar",
          "wooduc",
          "wooscj2",
          "woothr",
          "y00475",
          "yebfly",
          "yebsap",
          "yehbla",
          "yelwar",
          "yerwar",
          "yetvir"
         ],
         "y": [
          67,
          21,
          18,
          100,
          73,
          48,
          68,
          100,
          100,
          17,
          48,
          45,
          65,
          100,
          40,
          20,
          65,
          71,
          100,
          49,
          36,
          44,
          100,
          16,
          31,
          50,
          90,
          43,
          100,
          77,
          65,
          74,
          72,
          100,
          76,
          80,
          29,
          57,
          37,
          89,
          96,
          62,
          70,
          52,
          31,
          54,
          51,
          3,
          100,
          62,
          68,
          79,
          29,
          32,
          79,
          32,
          58,
          41,
          100,
          51,
          96,
          100,
          39,
          66,
          56,
          39,
          100,
          18,
          64,
          19,
          40,
          44,
          50,
          64,
          20,
          45,
          24,
          100,
          100,
          100,
          100,
          49,
          8,
          34,
          100,
          19,
          76,
          50,
          17,
          43,
          29,
          100,
          49,
          100,
          61,
          100,
          40,
          28,
          66,
          40,
          90,
          60,
          9,
          84,
          100,
          89,
          45,
          30,
          49,
          69,
          100,
          43,
          69,
          100,
          44,
          96,
          82,
          43,
          88,
          44,
          92,
          100,
          10,
          81,
          35,
          100,
          100,
          100,
          100,
          93,
          37,
          83,
          38,
          57,
          63,
          36,
          56,
          44,
          17,
          81,
          17,
          78,
          13,
          100,
          51,
          52,
          85,
          32,
          56,
          99,
          84,
          100,
          100,
          41,
          13,
          72,
          52,
          100,
          100,
          16,
          100,
          83,
          24,
          33,
          99,
          16,
          31,
          46,
          100,
          85,
          100,
          23,
          69,
          45,
          79,
          34,
          60,
          52,
          36,
          32,
          77,
          52,
          67,
          36,
          52,
          35,
          17,
          73,
          14,
          66,
          100,
          1,
          87,
          33,
          55,
          47,
          100,
          36,
          13,
          43,
          58,
          44,
          12,
          96,
          10,
          13,
          24,
          28,
          21,
          21,
          100,
          28,
          50,
          53,
          45,
          56,
          35,
          9,
          62,
          44,
          47,
          100,
          57,
          44,
          100,
          98,
          18,
          63,
          100,
          46,
          13,
          100,
          37,
          66,
          69,
          25,
          100,
          16,
          22,
          53,
          100,
          26,
          63,
          100,
          100,
          100,
          19,
          100,
          14,
          60,
          50,
          20,
          74,
          98,
          19,
          64,
          99,
          78,
          50,
          28,
          38,
          61,
          87,
          46
         ]
        }
       ],
       "layout": {
        "autosize": true,
        "template": {
         "data": {
          "bar": [
           {
            "error_x": {
             "color": "#2a3f5f"
            },
            "error_y": {
             "color": "#2a3f5f"
            },
            "marker": {
             "line": {
              "color": "#E5ECF6",
              "width": 0.5
             }
            },
            "type": "bar"
           }
          ],
          "barpolar": [
           {
            "marker": {
             "line": {
              "color": "#E5ECF6",
              "width": 0.5
             }
            },
            "type": "barpolar"
           }
          ],
          "carpet": [
           {
            "aaxis": {
             "endlinecolor": "#2a3f5f",
             "gridcolor": "white",
             "linecolor": "white",
             "minorgridcolor": "white",
             "startlinecolor": "#2a3f5f"
            },
            "baxis": {
             "endlinecolor": "#2a3f5f",
             "gridcolor": "white",
             "linecolor": "white",
             "minorgridcolor": "white",
             "startlinecolor": "#2a3f5f"
            },
            "type": "carpet"
           }
          ],
          "choropleth": [
           {
            "colorbar": {
             "outlinewidth": 0,
             "ticks": ""
            },
            "type": "choropleth"
           }
          ],
          "contour": [
           {
            "colorbar": {
             "outlinewidth": 0,
             "ticks": ""
            },
            "colorscale": [
             [
              0,
              "#0d0887"
             ],
             [
              0.1111111111111111,
              "#46039f"
             ],
             [
              0.2222222222222222,
              "#7201a8"
             ],
             [
              0.3333333333333333,
              "#9c179e"
             ],
             [
              0.4444444444444444,
              "#bd3786"
             ],
             [
              0.5555555555555556,
              "#d8576b"
             ],
             [
              0.6666666666666666,
              "#ed7953"
             ],
             [
              0.7777777777777778,
              "#fb9f3a"
             ],
             [
              0.8888888888888888,
              "#fdca26"
             ],
             [
              1,
              "#f0f921"
             ]
            ],
            "type": "contour"
           }
          ],
          "contourcarpet": [
           {
            "colorbar": {
             "outlinewidth": 0,
             "ticks": ""
            },
            "type": "contourcarpet"
           }
          ],
          "heatmap": [
           {
            "colorbar": {
             "outlinewidth": 0,
             "ticks": ""
            },
            "colorscale": [
             [
              0,
              "#0d0887"
             ],
             [
              0.1111111111111111,
              "#46039f"
             ],
             [
              0.2222222222222222,
              "#7201a8"
             ],
             [
              0.3333333333333333,
              "#9c179e"
             ],
             [
              0.4444444444444444,
              "#bd3786"
             ],
             [
              0.5555555555555556,
              "#d8576b"
             ],
             [
              0.6666666666666666,
              "#ed7953"
             ],
             [
              0.7777777777777778,
              "#fb9f3a"
             ],
             [
              0.8888888888888888,
              "#fdca26"
             ],
             [
              1,
              "#f0f921"
             ]
            ],
            "type": "heatmap"
           }
          ],
          "heatmapgl": [
           {
            "colorbar": {
             "outlinewidth": 0,
             "ticks": ""
            },
            "colorscale": [
             [
              0,
              "#0d0887"
             ],
             [
              0.1111111111111111,
              "#46039f"
             ],
             [
              0.2222222222222222,
              "#7201a8"
             ],
             [
              0.3333333333333333,
              "#9c179e"
             ],
             [
              0.4444444444444444,
              "#bd3786"
             ],
             [
              0.5555555555555556,
              "#d8576b"
             ],
             [
              0.6666666666666666,
              "#ed7953"
             ],
             [
              0.7777777777777778,
              "#fb9f3a"
             ],
             [
              0.8888888888888888,
              "#fdca26"
             ],
             [
              1,
              "#f0f921"
             ]
            ],
            "type": "heatmapgl"
           }
          ],
          "histogram": [
           {
            "marker": {
             "colorbar": {
              "outlinewidth": 0,
              "ticks": ""
             }
            },
            "type": "histogram"
           }
          ],
          "histogram2d": [
           {
            "colorbar": {
             "outlinewidth": 0,
             "ticks": ""
            },
            "colorscale": [
             [
              0,
              "#0d0887"
             ],
             [
              0.1111111111111111,
              "#46039f"
             ],
             [
              0.2222222222222222,
              "#7201a8"
             ],
             [
              0.3333333333333333,
              "#9c179e"
             ],
             [
              0.4444444444444444,
              "#bd3786"
             ],
             [
              0.5555555555555556,
              "#d8576b"
             ],
             [
              0.6666666666666666,
              "#ed7953"
             ],
             [
              0.7777777777777778,
              "#fb9f3a"
             ],
             [
              0.8888888888888888,
              "#fdca26"
             ],
             [
              1,
              "#f0f921"
             ]
            ],
            "type": "histogram2d"
           }
          ],
          "histogram2dcontour": [
           {
            "colorbar": {
             "outlinewidth": 0,
             "ticks": ""
            },
            "colorscale": [
             [
              0,
              "#0d0887"
             ],
             [
              0.1111111111111111,
              "#46039f"
             ],
             [
              0.2222222222222222,
              "#7201a8"
             ],
             [
              0.3333333333333333,
              "#9c179e"
             ],
             [
              0.4444444444444444,
              "#bd3786"
             ],
             [
              0.5555555555555556,
              "#d8576b"
             ],
             [
              0.6666666666666666,
              "#ed7953"
             ],
             [
              0.7777777777777778,
              "#fb9f3a"
             ],
             [
              0.8888888888888888,
              "#fdca26"
             ],
             [
              1,
              "#f0f921"
             ]
            ],
            "type": "histogram2dcontour"
           }
          ],
          "mesh3d": [
           {
            "colorbar": {
             "outlinewidth": 0,
             "ticks": ""
            },
            "type": "mesh3d"
           }
          ],
          "parcoords": [
           {
            "line": {
             "colorbar": {
              "outlinewidth": 0,
              "ticks": ""
             }
            },
            "type": "parcoords"
           }
          ],
          "pie": [
           {
            "automargin": true,
            "type": "pie"
           }
          ],
          "scatter": [
           {
            "marker": {
             "colorbar": {
              "outlinewidth": 0,
              "ticks": ""
             }
            },
            "type": "scatter"
           }
          ],
          "scatter3d": [
           {
            "line": {
             "colorbar": {
              "outlinewidth": 0,
              "ticks": ""
             }
            },
            "marker": {
             "colorbar": {
              "outlinewidth": 0,
              "ticks": ""
             }
            },
            "type": "scatter3d"
           }
          ],
          "scattercarpet": [
           {
            "marker": {
             "colorbar": {
              "outlinewidth": 0,
              "ticks": ""
             }
            },
            "type": "scattercarpet"
           }
          ],
          "scattergeo": [
           {
            "marker": {
             "colorbar": {
              "outlinewidth": 0,
              "ticks": ""
             }
            },
            "type": "scattergeo"
           }
          ],
          "scattergl": [
           {
            "marker": {
             "colorbar": {
              "outlinewidth": 0,
              "ticks": ""
             }
            },
            "type": "scattergl"
           }
          ],
          "scattermapbox": [
           {
            "marker": {
             "colorbar": {
              "outlinewidth": 0,
              "ticks": ""
             }
            },
            "type": "scattermapbox"
           }
          ],
          "scatterpolar": [
           {
            "marker": {
             "colorbar": {
              "outlinewidth": 0,
              "ticks": ""
             }
            },
            "type": "scatterpolar"
           }
          ],
          "scatterpolargl": [
           {
            "marker": {
             "colorbar": {
              "outlinewidth": 0,
              "ticks": ""
             }
            },
            "type": "scatterpolargl"
           }
          ],
          "scatterternary": [
           {
            "marker": {
             "colorbar": {
              "outlinewidth": 0,
              "ticks": ""
             }
            },
            "type": "scatterternary"
           }
          ],
          "surface": [
           {
            "colorbar": {
             "outlinewidth": 0,
             "ticks": ""
            },
            "colorscale": [
             [
              0,
              "#0d0887"
             ],
             [
              0.1111111111111111,
              "#46039f"
             ],
             [
              0.2222222222222222,
              "#7201a8"
             ],
             [
              0.3333333333333333,
              "#9c179e"
             ],
             [
              0.4444444444444444,
              "#bd3786"
             ],
             [
              0.5555555555555556,
              "#d8576b"
             ],
             [
              0.6666666666666666,
              "#ed7953"
             ],
             [
              0.7777777777777778,
              "#fb9f3a"
             ],
             [
              0.8888888888888888,
              "#fdca26"
             ],
             [
              1,
              "#f0f921"
             ]
            ],
            "type": "surface"
           }
          ],
          "table": [
           {
            "cells": {
             "fill": {
              "color": "#EBF0F8"
             },
             "line": {
              "color": "white"
             }
            },
            "header": {
             "fill": {
              "color": "#C8D4E3"
             },
             "line": {
              "color": "white"
             }
            },
            "type": "table"
           }
          ]
         },
         "layout": {
          "annotationdefaults": {
           "arrowcolor": "#2a3f5f",
           "arrowhead": 0,
           "arrowwidth": 1
          },
          "coloraxis": {
           "colorbar": {
            "outlinewidth": 0,
            "ticks": ""
           }
          },
          "colorscale": {
           "diverging": [
            [
             0,
             "#8e0152"
            ],
            [
             0.1,
             "#c51b7d"
            ],
            [
             0.2,
             "#de77ae"
            ],
            [
             0.3,
             "#f1b6da"
            ],
            [
             0.4,
             "#fde0ef"
            ],
            [
             0.5,
             "#f7f7f7"
            ],
            [
             0.6,
             "#e6f5d0"
            ],
            [
             0.7,
             "#b8e186"
            ],
            [
             0.8,
             "#7fbc41"
            ],
            [
             0.9,
             "#4d9221"
            ],
            [
             1,
             "#276419"
            ]
           ],
           "sequential": [
            [
             0,
             "#0d0887"
            ],
            [
             0.1111111111111111,
             "#46039f"
            ],
            [
             0.2222222222222222,
             "#7201a8"
            ],
            [
             0.3333333333333333,
             "#9c179e"
            ],
            [
             0.4444444444444444,
             "#bd3786"
            ],
            [
             0.5555555555555556,
             "#d8576b"
            ],
            [
             0.6666666666666666,
             "#ed7953"
            ],
            [
             0.7777777777777778,
             "#fb9f3a"
            ],
            [
             0.8888888888888888,
             "#fdca26"
            ],
            [
             1,
             "#f0f921"
            ]
           ],
           "sequentialminus": [
            [
             0,
             "#0d0887"
            ],
            [
             0.1111111111111111,
             "#46039f"
            ],
            [
             0.2222222222222222,
             "#7201a8"
            ],
            [
             0.3333333333333333,
             "#9c179e"
            ],
            [
             0.4444444444444444,
             "#bd3786"
            ],
            [
             0.5555555555555556,
             "#d8576b"
            ],
            [
             0.6666666666666666,
             "#ed7953"
            ],
            [
             0.7777777777777778,
             "#fb9f3a"
            ],
            [
             0.8888888888888888,
             "#fdca26"
            ],
            [
             1,
             "#f0f921"
            ]
           ]
          },
          "colorway": [
           "#636efa",
           "#EF553B",
           "#00cc96",
           "#ab63fa",
           "#FFA15A",
           "#19d3f3",
           "#FF6692",
           "#B6E880",
           "#FF97FF",
           "#FECB52"
          ],
          "font": {
           "color": "#2a3f5f"
          },
          "geo": {
           "bgcolor": "white",
           "lakecolor": "white",
           "landcolor": "#E5ECF6",
           "showlakes": true,
           "showland": true,
           "subunitcolor": "white"
          },
          "hoverlabel": {
           "align": "left"
          },
          "hovermode": "closest",
          "mapbox": {
           "style": "light"
          },
          "paper_bgcolor": "white",
          "plot_bgcolor": "#E5ECF6",
          "polar": {
           "angularaxis": {
            "gridcolor": "white",
            "linecolor": "white",
            "ticks": ""
           },
           "bgcolor": "#E5ECF6",
           "radialaxis": {
            "gridcolor": "white",
            "linecolor": "white",
            "ticks": ""
           }
          },
          "scene": {
           "xaxis": {
            "backgroundcolor": "#E5ECF6",
            "gridcolor": "white",
            "gridwidth": 2,
            "linecolor": "white",
            "showbackground": true,
            "ticks": "",
            "zerolinecolor": "white"
           },
           "yaxis": {
            "backgroundcolor": "#E5ECF6",
            "gridcolor": "white",
            "gridwidth": 2,
            "linecolor": "white",
            "showbackground": true,
            "ticks": "",
            "zerolinecolor": "white"
           },
           "zaxis": {
            "backgroundcolor": "#E5ECF6",
            "gridcolor": "white",
            "gridwidth": 2,
            "linecolor": "white",
            "showbackground": true,
            "ticks": "",
            "zerolinecolor": "white"
           }
          },
          "shapedefaults": {
           "line": {
            "color": "#2a3f5f"
           }
          },
          "ternary": {
           "aaxis": {
            "gridcolor": "white",
            "linecolor": "white",
            "ticks": ""
           },
           "baxis": {
            "gridcolor": "white",
            "linecolor": "white",
            "ticks": ""
           },
           "bgcolor": "#E5ECF6",
           "caxis": {
            "gridcolor": "white",
            "linecolor": "white",
            "ticks": ""
           }
          },
          "title": {
           "x": 0.05
          },
          "xaxis": {
           "automargin": true,
           "gridcolor": "white",
           "linecolor": "white",
           "ticks": "",
           "title": {
            "standoff": 15
           },
           "zerolinecolor": "white",
           "zerolinewidth": 2
          },
          "yaxis": {
           "automargin": true,
           "gridcolor": "white",
           "linecolor": "white",
           "ticks": "",
           "title": {
            "standoff": 15
           },
           "zerolinecolor": "white",
           "zerolinewidth": 2
          }
         }
        },
        "title": {
         "text": "Distribution of Bird Species"
        },
        "xaxis": {
         "autorange": true,
         "range": [
          -0.5,
          263.5
         ],
         "type": "category"
        },
        "yaxis": {
         "autorange": true,
         "range": [
          0,
          105.26315789473684
         ],
         "type": "linear"
        }
       }
      },
      "image/png": "[encoded data removed]",
      "text/html": [
       "<div>\n",
       "        \n",
       "        \n",
       "            <div id=\"70b9a2d6-dd36-461c-8dbb-6871b8a71856\" class=\"plotly-graph-div\" style=\"height:525px; width:100%;\"></div>\n",
       "            <script type=\"text/javascript\">\n",
       "                require([\"plotly\"], function(Plotly) {\n",
       "                    window.PLOTLYENV=window.PLOTLYENV || {};\n",
       "                    \n",
       "                if (document.getElementById(\"70b9a2d6-dd36-461c-8dbb-6871b8a71856\")) {\n",
       "                    Plotly.newPlot(\n",
       "                        '70b9a2d6-dd36-461c-8dbb-6871b8a71856',\n",
       "                        [{\"type\": \"bar\", \"x\": [\"aldfly\", \"ameavo\", \"amebit\", \"amecro\", \"amegfi\", \"amekes\", \"amepip\", \"amered\", \"amerob\", \"amewig\", \"amewoo\", \"amtspa\", \"annhum\", \"astfly\", \"baisan\", \"baleag\", \"balori\", \"banswa\", \"barswa\", \"bawwar\", \"belkin1\", \"belspa2\", \"bewwre\", \"bkbcuc\", \"bkbmag1\", \"bkbwar\", \"bkcchi\", \"bkchum\", \"bkhgro\", \"bkpwar\", \"bktspa\", \"blkpho\", \"blugrb1\", \"blujay\", \"bnhcow\", \"boboli\", \"bongul\", \"brdowl\", \"brebla\", \"brespa\", \"brncre\", \"brnthr\", \"brthum\", \"brwhaw\", \"btbwar\", \"btnwar\", \"btywar\", \"buffle\", \"buggna\", \"buhvir\", \"bulori\", \"bushti\", \"buwtea\", \"buwwar\", \"cacwre\", \"calgul\", \"calqua\", \"camwar\", \"cangoo\", \"canwar\", \"canwre\", \"carwre\", \"casfin\", \"caster1\", \"casvir\", \"cedwax\", \"chispa\", \"chiswi\", \"chswar\", \"chukar\", \"clanut\", \"cliswa\", \"comgol\", \"comgra\", \"comloo\", \"commer\", \"comnig\", \"comrav\", \"comred\", \"comter\", \"comyel\", \"coohaw\", \"coshum\", \"cowscj1\", \"daejun\", \"doccor\", \"dowwoo\", \"dusfly\", \"eargre\", \"easblu\", \"easkin\", \"easmea\", \"easpho\", \"eastow\", \"eawpew\", \"eucdov\", \"eursta\", \"evegro\", \"fiespa\", \"fiscro\", \"foxspa\", \"gadwal\", \"gcrfin\", \"gnttow\", \"gnwtea\", \"gockin\", \"gocspa\", \"goleag\", \"grbher3\", \"grcfly\", \"greegr\", \"greroa\", \"greyel\", \"grhowl\", \"grnher\", \"grtgra\", \"grycat\", \"gryfly\", \"haiwoo\", \"hamfly\", \"hergul\", \"herthr\", \"hoomer\", \"hoowar\", \"horgre\", \"horlar\", \"houfin\", \"houspa\", \"houwre\", \"indbun\", \"juntit1\", \"killde\", \"labwoo\", \"larspa\", \"lazbun\", \"leabit\", \"leafly\", \"leasan\", \"lecthr\", \"lesgol\", \"lesnig\", \"lesyel\", \"lewwoo\", \"linspa\", \"lobcur\", \"lobdow\", \"logshr\", \"lotduc\", \"louwat\", \"macwar\", \"magwar\", \"mallar3\", \"marwre\", \"merlin\", \"moublu\", \"mouchi\", \"moudov\", \"norcar\", \"norfli\", \"norhar2\", \"normoc\", \"norpar\", \"norpin\", \"norsho\", \"norwat\", \"nrwswa\", \"nutwoo\", \"olsfly\", \"orcwar\", \"osprey\", \"ovenbi1\", \"palwar\", \"pasfly\", \"pecsan\", \"perfal\", \"phaino\", \"pibgre\", \"pilwoo\", \"pingro\", \"pinjay\", \"pinsis\", \"pinwar\", \"plsvir\", \"prawar\", \"purfin\", \"pygnut\", \"rebmer\", \"rebnut\", \"rebsap\", \"rebwoo\", \"redcro\", \"redhea\", \"reevir1\", \"renpha\", \"reshaw\", \"rethaw\", \"rewbla\", \"ribgul\", \"rinduc\", \"robgro\", \"rocpig\", \"rocwre\", \"rthhum\", \"ruckin\", \"rudduc\", \"rufgro\", \"rufhum\", \"rusbla\", \"sagspa1\", \"sagthr\", \"savspa\", \"saypho\", \"scatan\", \"scoori\", \"semplo\", \"semsan\", \"sheowl\", \"shshaw\", \"snobun\", \"snogoo\", \"solsan\", \"sonspa\", \"sora\", \"sposan\", \"spotow\", \"stejay\", \"swahaw\", \"swaspa\", \"swathr\", \"treswa\", \"truswa\", \"tuftit\", \"tunswa\", \"veery\", \"vesspa\", \"vigswa\", \"warvir\", \"wesblu\", \"wesgre\", \"weskin\", \"wesmea\", \"wessan\", \"westan\", \"wewpew\", \"whbnut\", \"whcspa\", \"whfibi\", \"whtspa\", \"whtswi\", \"wilfly\", \"wilsni1\", \"wiltur\", \"winwre3\", \"wlswar\", \"wooduc\", \"wooscj2\", \"woothr\", \"y00475\", \"yebfly\", \"yebsap\", \"yehbla\", \"yelwar\", \"yerwar\", \"yetvir\"], \"y\": [67, 21, 18, 100, 73, 48, 68, 100, 100, 17, 48, 45, 65, 100, 40, 20, 65, 71, 100, 49, 36, 44, 100, 16, 31, 50, 90, 43, 100, 77, 65, 74, 72, 100, 76, 80, 29, 57, 37, 89, 96, 62, 70, 52, 31, 54, 51, 3, 100, 62, 68, 79, 29, 32, 79, 32, 58, 41, 100, 51, 96, 100, 39, 66, 56, 39, 100, 18, 64, 19, 40, 44, 50, 64, 20, 45, 24, 100, 100, 100, 100, 49, 8, 34, 100, 19, 76, 50, 17, 43, 29, 100, 49, 100, 61, 100, 40, 28, 66, 40, 90, 60, 9, 84, 100, 89, 45, 30, 49, 69, 100, 43, 69, 100, 44, 96, 82, 43, 88, 44, 92, 100, 10, 81, 35, 100, 100, 100, 100, 93, 37, 83, 38, 57, 63, 36, 56, 44, 17, 81, 17, 78, 13, 100, 51, 52, 85, 32, 56, 99, 84, 100, 100, 41, 13, 72, 52, 100, 100, 16, 100, 83, 24, 33, 99, 16, 31, 46, 100, 85, 100, 23, 69, 45, 79, 34, 60, 52, 36, 32, 77, 52, 67, 36, 52, 35, 17, 73, 14, 66, 100, 1, 87, 33, 55, 47, 100, 36, 13, 43, 58, 44, 12, 96, 10, 13, 24, 28, 21, 21, 100, 28, 50, 53, 45, 56, 35, 9, 62, 44, 47, 100, 57, 44, 100, 98, 18, 63, 100, 46, 13, 100, 37, 66, 69, 25, 100, 16, 22, 53, 100, 26, 63, 100, 100, 100, 19, 100, 14, 60, 50, 20, 74, 98, 19, 64, 99, 78, 50, 28, 38, 61, 87, 46]}],\n",
       "                        {\"template\": {\"data\": {\"bar\": [{\"error_x\": {\"color\": \"#2a3f5f\"}, \"error_y\": {\"color\": \"#2a3f5f\"}, \"marker\": {\"line\": {\"color\": \"#E5ECF6\", \"width\": 0.5}}, \"type\": \"bar\"}], \"barpolar\": [{\"marker\": {\"line\": {\"color\": \"#E5ECF6\", \"width\": 0.5}}, \"type\": \"barpolar\"}], \"carpet\": [{\"aaxis\": {\"endlinecolor\": \"#2a3f5f\", \"gridcolor\": \"white\", \"linecolor\": \"white\", \"minorgridcolor\": \"white\", \"startlinecolor\": \"#2a3f5f\"}, \"baxis\": {\"endlinecolor\": \"#2a3f5f\", \"gridcolor\": \"white\", \"linecolor\": \"white\", \"minorgridcolor\": \"white\", \"startlinecolor\": \"#2a3f5f\"}, \"type\": \"carpet\"}], \"choropleth\": [{\"colorbar\": {\"outlinewidth\": 0, \"ticks\": \"\"}, \"type\": \"choropleth\"}], \"contour\": [{\"colorbar\": {\"outlinewidth\": 0, \"ticks\": \"\"}, \"colorscale\": [[0.0, \"#0d0887\"], [0.1111111111111111, \"#46039f\"], [0.2222222222222222, \"#7201a8\"], [0.3333333333333333, \"#9c179e\"], [0.4444444444444444, \"#bd3786\"], [0.5555555555555556, \"#d8576b\"], [0.6666666666666666, \"#ed7953\"], [0.7777777777777778, \"#fb9f3a\"], [0.8888888888888888, \"#fdca26\"], [1.0, \"#f0f921\"]], \"type\": \"contour\"}], \"contourcarpet\": [{\"colorbar\": {\"outlinewidth\": 0, \"ticks\": \"\"}, \"type\": \"contourcarpet\"}], \"heatmap\": [{\"colorbar\": {\"outlinewidth\": 0, \"ticks\": \"\"}, \"colorscale\": [[0.0, \"#0d0887\"], [0.1111111111111111, \"#46039f\"], [0.2222222222222222, \"#7201a8\"], [0.3333333333333333, \"#9c179e\"], [0.4444444444444444, \"#bd3786\"], [0.5555555555555556, \"#d8576b\"], [0.6666666666666666, \"#ed7953\"], [0.7777777777777778, \"#fb9f3a\"], [0.8888888888888888, \"#fdca26\"], [1.0, \"#f0f921\"]], \"type\": \"heatmap\"}], \"heatmapgl\": [{\"colorbar\": {\"outlinewidth\": 0, \"ticks\": \"\"}, \"colorscale\": [[0.0, \"#0d0887\"], [0.1111111111111111, \"#46039f\"], [0.2222222222222222, \"#7201a8\"], [0.3333333333333333, \"#9c179e\"], [0.4444444444444444, \"#bd3786\"], [0.5555555555555556, \"#d8576b\"], [0.6666666666666666, \"#ed7953\"], [0.7777777777777778, \"#fb9f3a\"], [0.8888888888888888, \"#fdca26\"], [1.0, \"#f0f921\"]], \"type\": \"heatmapgl\"}], \"histogram\": [{\"marker\": {\"colorbar\": {\"outlinewidth\": 0, \"ticks\": \"\"}}, \"type\": \"histogram\"}], \"histogram2d\": [{\"colorbar\": {\"outlinewidth\": 0, \"ticks\": \"\"}, \"colorscale\": [[0.0, \"#0d0887\"], [0.1111111111111111, \"#46039f\"], [0.2222222222222222, \"#7201a8\"], [0.3333333333333333, \"#9c179e\"], [0.4444444444444444, \"#bd3786\"], [0.5555555555555556, \"#d8576b\"], [0.6666666666666666, \"#ed7953\"], [0.7777777777777778, \"#fb9f3a\"], [0.8888888888888888, \"#fdca26\"], [1.0, \"#f0f921\"]], \"type\": \"histogram2d\"}], \"histogram2dcontour\": [{\"colorbar\": {\"outlinewidth\": 0, \"ticks\": \"\"}, \"colorscale\": [[0.0, \"#0d0887\"], [0.1111111111111111, \"#46039f\"], [0.2222222222222222, \"#7201a8\"], [0.3333333333333333, \"#9c179e\"], [0.4444444444444444, \"#bd3786\"], [0.5555555555555556, \"#d8576b\"], [0.6666666666666666, \"#ed7953\"], [0.7777777777777778, \"#fb9f3a\"], [0.8888888888888888, \"#fdca26\"], [1.0, \"#f0f921\"]], \"type\": \"histogram2dcontour\"}], \"mesh3d\": [{\"colorbar\": {\"outlinewidth\": 0, \"ticks\": \"\"}, \"type\": \"mesh3d\"}], \"parcoords\": [{\"line\": {\"colorbar\": {\"outlinewidth\": 0, \"ticks\": \"\"}}, \"type\": \"parcoords\"}], \"pie\": [{\"automargin\": true, \"type\": \"pie\"}], \"scatter\": [{\"marker\": {\"colorbar\": {\"outlinewidth\": 0, \"ticks\": \"\"}}, \"type\": \"scatter\"}], \"scatter3d\": [{\"line\": {\"colorbar\": {\"outlinewidth\": 0, \"ticks\": \"\"}}, \"marker\": {\"colorbar\": {\"outlinewidth\": 0, \"ticks\": \"\"}}, \"type\": \"scatter3d\"}], \"scattercarpet\": [{\"marker\": {\"colorbar\": {\"outlinewidth\": 0, \"ticks\": \"\"}}, \"type\": \"scattercarpet\"}], \"scattergeo\": [{\"marker\": {\"colorbar\": {\"outlinewidth\": 0, \"ticks\": \"\"}}, \"type\": \"scattergeo\"}], \"scattergl\": [{\"marker\": {\"colorbar\": {\"outlinewidth\": 0, \"ticks\": \"\"}}, \"type\": \"scattergl\"}], \"scattermapbox\": [{\"marker\": {\"colorbar\": {\"outlinewidth\": 0, \"ticks\": \"\"}}, \"type\": \"scattermapbox\"}], \"scatterpolar\": [{\"marker\": {\"colorbar\": {\"outlinewidth\": 0, \"ticks\": \"\"}}, \"type\": \"scatterpolar\"}], \"scatterpolargl\": [{\"marker\": {\"colorbar\": {\"outlinewidth\": 0, \"ticks\": \"\"}}, \"type\": \"scatterpolargl\"}], \"scatterternary\": [{\"marker\": {\"colorbar\": {\"outlinewidth\": 0, \"ticks\": \"\"}}, \"type\": \"scatterternary\"}], \"surface\": [{\"colorbar\": {\"outlinewidth\": 0, \"ticks\": \"\"}, \"colorscale\": [[0.0, \"#0d0887\"], [0.1111111111111111, \"#46039f\"], [0.2222222222222222, \"#7201a8\"], [0.3333333333333333, \"#9c179e\"], [0.4444444444444444, \"#bd3786\"], [0.5555555555555556, \"#d8576b\"], [0.6666666666666666, \"#ed7953\"], [0.7777777777777778, \"#fb9f3a\"], [0.8888888888888888, \"#fdca26\"], [1.0, \"#f0f921\"]], \"type\": \"surface\"}], \"table\": [{\"cells\": {\"fill\": {\"color\": \"#EBF0F8\"}, \"line\": {\"color\": \"white\"}}, \"header\": {\"fill\": {\"color\": \"#C8D4E3\"}, \"line\": {\"color\": \"white\"}}, \"type\": \"table\"}]}, \"layout\": {\"annotationdefaults\": {\"arrowcolor\": \"#2a3f5f\", \"arrowhead\": 0, \"arrowwidth\": 1}, \"coloraxis\": {\"colorbar\": {\"outlinewidth\": 0, \"ticks\": \"\"}}, \"colorscale\": {\"diverging\": [[0, \"#8e0152\"], [0.1, \"#c51b7d\"], [0.2, \"#de77ae\"], [0.3, \"#f1b6da\"], [0.4, \"#fde0ef\"], [0.5, \"#f7f7f7\"], [0.6, \"#e6f5d0\"], [0.7, \"#b8e186\"], [0.8, \"#7fbc41\"], [0.9, \"#4d9221\"], [1, \"#276419\"]], \"sequential\": [[0.0, \"#0d0887\"], [0.1111111111111111, \"#46039f\"], [0.2222222222222222, \"#7201a8\"], [0.3333333333333333, \"#9c179e\"], [0.4444444444444444, \"#bd3786\"], [0.5555555555555556, \"#d8576b\"], [0.6666666666666666, \"#ed7953\"], [0.7777777777777778, \"#fb9f3a\"], [0.8888888888888888, \"#fdca26\"], [1.0, \"#f0f921\"]], \"sequentialminus\": [[0.0, \"#0d0887\"], [0.1111111111111111, \"#46039f\"], [0.2222222222222222, \"#7201a8\"], [0.3333333333333333, \"#9c179e\"], [0.4444444444444444, \"#bd3786\"], [0.5555555555555556, \"#d8576b\"], [0.6666666666666666, \"#ed7953\"], [0.7777777777777778, \"#fb9f3a\"], [0.8888888888888888, \"#fdca26\"], [1.0, \"#f0f921\"]]}, \"colorway\": [\"#636efa\", \"#EF553B\", \"#00cc96\", \"#ab63fa\", \"#FFA15A\", \"#19d3f3\", \"#FF6692\", \"#B6E880\", \"#FF97FF\", \"#FECB52\"], \"font\": {\"color\": \"#2a3f5f\"}, \"geo\": {\"bgcolor\": \"white\", \"lakecolor\": \"white\", \"landcolor\": \"#E5ECF6\", \"showlakes\": true, \"showland\": true, \"subunitcolor\": \"white\"}, \"hoverlabel\": {\"align\": \"left\"}, \"hovermode\": \"closest\", \"mapbox\": {\"style\": \"light\"}, \"paper_bgcolor\": \"white\", \"plot_bgcolor\": \"#E5ECF6\", \"polar\": {\"angularaxis\": {\"gridcolor\": \"white\", \"linecolor\": \"white\", \"ticks\": \"\"}, \"bgcolor\": \"#E5ECF6\", \"radialaxis\": {\"gridcolor\": \"white\", \"linecolor\": \"white\", \"ticks\": \"\"}}, \"scene\": {\"xaxis\": {\"backgroundcolor\": \"#E5ECF6\", \"gridcolor\": \"white\", \"gridwidth\": 2, \"linecolor\": \"white\", \"showbackground\": true, \"ticks\": \"\", \"zerolinecolor\": \"white\"}, \"yaxis\": {\"backgroundcolor\": \"#E5ECF6\", \"gridcolor\": \"white\", \"gridwidth\": 2, \"linecolor\": \"white\", \"showbackground\": true, \"ticks\": \"\", \"zerolinecolor\": \"white\"}, \"zaxis\": {\"backgroundcolor\": \"#E5ECF6\", \"gridcolor\": \"white\", \"gridwidth\": 2, \"linecolor\": \"white\", \"showbackground\": true, \"ticks\": \"\", \"zerolinecolor\": \"white\"}}, \"shapedefaults\": {\"line\": {\"color\": \"#2a3f5f\"}}, \"ternary\": {\"aaxis\": {\"gridcolor\": \"white\", \"linecolor\": \"white\", \"ticks\": \"\"}, \"baxis\": {\"gridcolor\": \"white\", \"linecolor\": \"white\", \"ticks\": \"\"}, \"bgcolor\": \"#E5ECF6\", \"caxis\": {\"gridcolor\": \"white\", \"linecolor\": \"white\", \"ticks\": \"\"}}, \"title\": {\"x\": 0.05}, \"xaxis\": {\"automargin\": true, \"gridcolor\": \"white\", \"linecolor\": \"white\", \"ticks\": \"\", \"title\": {\"standoff\": 15}, \"zerolinecolor\": \"white\", \"zerolinewidth\": 2}, \"yaxis\": {\"automargin\": true, \"gridcolor\": \"white\", \"linecolor\": \"white\", \"ticks\": \"\", \"title\": {\"standoff\": 15}, \"zerolinecolor\": \"white\", \"zerolinewidth\": 2}}}, \"title\": {\"text\": \"Distribution of Bird Species\"}},\n",
       "                        {\"responsive\": true}\n",
       "                    ).then(function(){\n",
       "                            \n",
       "var gd = document.getElementById('70b9a2d6-dd36-461c-8dbb-6871b8a71856');\n",
       "var x = new MutationObserver(function (mutations, observer) {{\n",
       "        var display = window.getComputedStyle(gd).display;\n",
       "        if (!display || display === 'none') {{\n",
       "            console.log([gd, 'removed!']);\n",
       "            Plotly.purge(gd);\n",
       "            observer.disconnect();\n",
       "        }}\n",
       "}});\n",
       "\n",
       "// Listen for the removal of the full notebook cells\n",
       "var notebookContainer = gd.closest('#notebook-container');\n",
       "if (notebookContainer) {{\n",
       "    x.observe(notebookContainer, {childList: true});\n",
       "}}\n",
       "\n",
       "// Listen for the clearing of the current output cell\n",
       "var outputEl = gd.closest('.output');\n",
       "if (outputEl) {{\n",
       "    x.observe(outputEl, {childList: true});\n",
       "}}\n",
       "\n",
       "                        })\n",
       "                };\n",
       "                });\n",
       "            </script>\n",
       "        </div>"
      ]
     },
     "metadata": {},
     "output_type": "display_data"
    }
   ],
   "source": [
    "fig = go.Figure(data=[\n",
    "    go.Bar(y=list(birds_count.values()), x=list(birds_count.keys()))\n",
    "])\n",
    "\n",
    "fig.update_layout(title='Distribution of Bird Species')\n",
    "fig.show()"
   ]
  },
  {
   "cell_type": "code",
   "execution_count": 38,
   "metadata": {},
   "outputs": [],
   "source": [
    "most_represented_birds = [key for key,value in birds_count.items() if value == 100]   # データ数が100個の鳥だけ使う\n",
    "train_df = train_df.query(\"ebird_code in @most_represented_birds\")"
   ]
  },
  {
   "cell_type": "code",
   "execution_count": 39,
   "metadata": {},
   "outputs": [
    {
     "data": {
      "text/plain": [
       "49"
      ]
     },
     "execution_count": 39,
     "metadata": {},
     "output_type": "execute_result"
    }
   ],
   "source": [
    "len(train_df.ebird_code.unique())"
   ]
  },
  {
   "cell_type": "code",
   "execution_count": 40,
   "metadata": {},
   "outputs": [
    {
     "name": "stdout",
     "output_type": "stream",
     "text": [
      "['amecro', 'amerob', 'horlar', 'redcro', 'sonspa', 'wesmea', 'savspa', 'grhowl', 'daejun', 'bewwre', 'cangoo', 'easmea', 'warvir', 'norfli', 'spotow', 'comter', 'orcwar', 'mallar3', 'herthr', 'ovenbi1']\n"
     ]
    }
   ],
   "source": [
    "birds_to_recognise = shuffle(most_represented_birds)[:20]\n",
    "print(birds_to_recognise)"
   ]
  },
  {
   "cell_type": "code",
   "execution_count": 41,
   "metadata": {},
   "outputs": [],
   "source": [
    "sequence_length = 50\n",
    "\n",
    "ebird_to_id = {}\n",
    "id_to_ebird = {}\n",
    "ebird_to_id[\"nocall\"] = 0\n",
    "id_to_ebird[0] = \"nocall\"\n",
    "for idx, unique_ebird_code in enumerate(birds_to_recognise):\n",
    "    ebird_to_id[unique_ebird_code] = str(idx+1)\n",
    "    id_to_ebird[idx+1] = str(unique_ebird_code)"
   ]
  },
  {
   "cell_type": "code",
   "execution_count": 42,
   "metadata": {},
   "outputs": [
    {
     "data": {
      "text/html": [
       "<div>\n",
       "<style scoped>\n",
       "    .dataframe tbody tr th:only-of-type {\n",
       "        vertical-align: middle;\n",
       "    }\n",
       "\n",
       "    .dataframe tbody tr th {\n",
       "        vertical-align: top;\n",
       "    }\n",
       "\n",
       "    .dataframe thead th {\n",
       "        text-align: right;\n",
       "    }\n",
       "</style>\n",
       "<table border=\"1\" class=\"dataframe\">\n",
       "  <thead>\n",
       "    <tr style=\"text-align: right;\">\n",
       "      <th></th>\n",
       "      <th>rating</th>\n",
       "      <th>playback_used</th>\n",
       "      <th>ebird_code</th>\n",
       "      <th>channels</th>\n",
       "      <th>date</th>\n",
       "      <th>pitch</th>\n",
       "      <th>duration</th>\n",
       "      <th>filename</th>\n",
       "      <th>speed</th>\n",
       "      <th>species</th>\n",
       "      <th>...</th>\n",
       "      <th>xc_id</th>\n",
       "      <th>url</th>\n",
       "      <th>country</th>\n",
       "      <th>author</th>\n",
       "      <th>primary_label</th>\n",
       "      <th>longitude</th>\n",
       "      <th>length</th>\n",
       "      <th>time</th>\n",
       "      <th>recordist</th>\n",
       "      <th>license</th>\n",
       "    </tr>\n",
       "  </thead>\n",
       "  <tbody>\n",
       "    <tr>\n",
       "      <th>7010</th>\n",
       "      <td>4.0</td>\n",
       "      <td>no</td>\n",
       "      <td>daejun</td>\n",
       "      <td>2 (stereo)</td>\n",
       "      <td>2012-10-24</td>\n",
       "      <td>Not specified</td>\n",
       "      <td>8</td>\n",
       "      <td>XC138151.mp3</td>\n",
       "      <td>Not specified</td>\n",
       "      <td>Dark-eyed Junco</td>\n",
       "      <td>...</td>\n",
       "      <td>138151</td>\n",
       "      <td>https://www.xeno-canto.org/138151</td>\n",
       "      <td>United States</td>\n",
       "      <td>Paul Driver</td>\n",
       "      <td>Junco hyemalis_Dark-eyed Junco</td>\n",
       "      <td>-75.1254</td>\n",
       "      <td>Not specified</td>\n",
       "      <td>07:15</td>\n",
       "      <td>Paul Driver</td>\n",
       "      <td>Creative Commons Attribution-NonCommercial-Sha...</td>\n",
       "    </tr>\n",
       "    <tr>\n",
       "      <th>709</th>\n",
       "      <td>5.0</td>\n",
       "      <td>no</td>\n",
       "      <td>amerob</td>\n",
       "      <td>2 (stereo)</td>\n",
       "      <td>2015-05-17</td>\n",
       "      <td>both</td>\n",
       "      <td>62</td>\n",
       "      <td>XC338199.mp3</td>\n",
       "      <td>level</td>\n",
       "      <td>American Robin</td>\n",
       "      <td>...</td>\n",
       "      <td>338199</td>\n",
       "      <td>https://www.xeno-canto.org/338199</td>\n",
       "      <td>United States</td>\n",
       "      <td>Bruce Lagerquist</td>\n",
       "      <td>Turdus migratorius_American Robin</td>\n",
       "      <td>-122.3108</td>\n",
       "      <td>3-6(s)</td>\n",
       "      <td>09:30</td>\n",
       "      <td>Bruce Lagerquist</td>\n",
       "      <td>Creative Commons Attribution-NonCommercial-Sha...</td>\n",
       "    </tr>\n",
       "    <tr>\n",
       "      <th>12010</th>\n",
       "      <td>5.0</td>\n",
       "      <td>no</td>\n",
       "      <td>linspa</td>\n",
       "      <td>1 (mono)</td>\n",
       "      <td>2014-06-30</td>\n",
       "      <td>Not specified</td>\n",
       "      <td>104</td>\n",
       "      <td>XC206124.mp3</td>\n",
       "      <td>Not specified</td>\n",
       "      <td>Lincoln's Sparrow</td>\n",
       "      <td>...</td>\n",
       "      <td>206124</td>\n",
       "      <td>https://www.xeno-canto.org/206124</td>\n",
       "      <td>United States</td>\n",
       "      <td>Eric DeFonso</td>\n",
       "      <td>Melospiza lincolnii_Lincoln's Sparrow</td>\n",
       "      <td>-108.0274</td>\n",
       "      <td>Not specified</td>\n",
       "      <td>09:21</td>\n",
       "      <td>Eric DeFonso</td>\n",
       "      <td>Creative Commons Attribution-NonCommercial-Sha...</td>\n",
       "    </tr>\n",
       "    <tr>\n",
       "      <th>18249</th>\n",
       "      <td>5.0</td>\n",
       "      <td>no</td>\n",
       "      <td>spotow</td>\n",
       "      <td>2 (stereo)</td>\n",
       "      <td>2018-05-10</td>\n",
       "      <td>Not specified</td>\n",
       "      <td>35</td>\n",
       "      <td>XC418304.mp3</td>\n",
       "      <td>Not specified</td>\n",
       "      <td>Spotted Towhee</td>\n",
       "      <td>...</td>\n",
       "      <td>418304</td>\n",
       "      <td>https://www.xeno-canto.org/418304</td>\n",
       "      <td>United States</td>\n",
       "      <td>Bobby Wilcox</td>\n",
       "      <td>Pipilo maculatus_Spotted Towhee</td>\n",
       "      <td>-115.7399</td>\n",
       "      <td>Not specified</td>\n",
       "      <td>07:30</td>\n",
       "      <td>Bobby Wilcox</td>\n",
       "      <td>Creative Commons Attribution-NonCommercial-Sha...</td>\n",
       "    </tr>\n",
       "    <tr>\n",
       "      <th>19708</th>\n",
       "      <td>5.0</td>\n",
       "      <td>no</td>\n",
       "      <td>wewpew</td>\n",
       "      <td>1 (mono)</td>\n",
       "      <td>2000-06-12</td>\n",
       "      <td>Not specified</td>\n",
       "      <td>10</td>\n",
       "      <td>XC378357.mp3</td>\n",
       "      <td>Not specified</td>\n",
       "      <td>Western Wood Pewee</td>\n",
       "      <td>...</td>\n",
       "      <td>378357</td>\n",
       "      <td>https://www.xeno-canto.org/378357</td>\n",
       "      <td>United States</td>\n",
       "      <td>Jeremy Minns</td>\n",
       "      <td>Contopus sordidulus_Western Wood-Pewee</td>\n",
       "      <td>-120.5105</td>\n",
       "      <td>Not specified</td>\n",
       "      <td>08:10</td>\n",
       "      <td>Jeremy Minns</td>\n",
       "      <td>Creative Commons Attribution-NonCommercial-Sha...</td>\n",
       "    </tr>\n",
       "  </tbody>\n",
       "</table>\n",
       "<p>5 rows × 35 columns</p>\n",
       "</div>"
      ],
      "text/plain": [
       "       rating playback_used ebird_code    channels        date          pitch  \\\n",
       "7010      4.0            no     daejun  2 (stereo)  2012-10-24  Not specified   \n",
       "709       5.0            no     amerob  2 (stereo)  2015-05-17           both   \n",
       "12010     5.0            no     linspa    1 (mono)  2014-06-30  Not specified   \n",
       "18249     5.0            no     spotow  2 (stereo)  2018-05-10  Not specified   \n",
       "19708     5.0            no     wewpew    1 (mono)  2000-06-12  Not specified   \n",
       "\n",
       "       duration      filename          speed             species  ...   xc_id  \\\n",
       "7010          8  XC138151.mp3  Not specified     Dark-eyed Junco  ...  138151   \n",
       "709          62  XC338199.mp3          level      American Robin  ...  338199   \n",
       "12010       104  XC206124.mp3  Not specified   Lincoln's Sparrow  ...  206124   \n",
       "18249        35  XC418304.mp3  Not specified      Spotted Towhee  ...  418304   \n",
       "19708        10  XC378357.mp3  Not specified  Western Wood Pewee  ...  378357   \n",
       "\n",
       "                                     url        country            author  \\\n",
       "7010   https://www.xeno-canto.org/138151  United States       Paul Driver   \n",
       "709    https://www.xeno-canto.org/338199  United States  Bruce Lagerquist   \n",
       "12010  https://www.xeno-canto.org/206124  United States      Eric DeFonso   \n",
       "18249  https://www.xeno-canto.org/418304  United States      Bobby Wilcox   \n",
       "19708  https://www.xeno-canto.org/378357  United States      Jeremy Minns   \n",
       "\n",
       "                                primary_label  longitude         length  \\\n",
       "7010           Junco hyemalis_Dark-eyed Junco   -75.1254  Not specified   \n",
       "709         Turdus migratorius_American Robin  -122.3108         3-6(s)   \n",
       "12010   Melospiza lincolnii_Lincoln's Sparrow  -108.0274  Not specified   \n",
       "18249         Pipilo maculatus_Spotted Towhee  -115.7399  Not specified   \n",
       "19708  Contopus sordidulus_Western Wood-Pewee  -120.5105  Not specified   \n",
       "\n",
       "        time         recordist  \\\n",
       "7010   07:15       Paul Driver   \n",
       "709    09:30  Bruce Lagerquist   \n",
       "12010  09:21      Eric DeFonso   \n",
       "18249  07:30      Bobby Wilcox   \n",
       "19708  08:10      Jeremy Minns   \n",
       "\n",
       "                                                 license  \n",
       "7010   Creative Commons Attribution-NonCommercial-Sha...  \n",
       "709    Creative Commons Attribution-NonCommercial-Sha...  \n",
       "12010  Creative Commons Attribution-NonCommercial-Sha...  \n",
       "18249  Creative Commons Attribution-NonCommercial-Sha...  \n",
       "19708  Creative Commons Attribution-NonCommercial-Sha...  \n",
       "\n",
       "[5 rows x 35 columns]"
      ]
     },
     "execution_count": 42,
     "metadata": {},
     "output_type": "execute_result"
    }
   ],
   "source": [
    "train_df = shuffle(train_df)\n",
    "train_df.head()"
   ]
  },
  {
   "cell_type": "code",
   "execution_count": 43,
   "metadata": {},
   "outputs": [
    {
     "data": {
      "text/plain": [
       "4900"
      ]
     },
     "execution_count": 43,
     "metadata": {},
     "output_type": "execute_result"
    }
   ],
   "source": [
    "len(train_df)"
   ]
  },
  {
   "cell_type": "code",
   "execution_count": null,
   "metadata": {},
   "outputs": [],
   "source": [
    "def get_sample(filename, bird, sampling_rate=0):\n",
    "    if sampling_rate == 0:\n",
    "        wave_data, wave_rate = librosa.load(filename)\n",
    "    else:\n",
    "        wave_data, wave_rate = librosa.load(filename, sampling_rate)\n",
    "    data_point_per_second = int(sequence_length/5)\n",
    "    \n",
    "    #Take 10 data points every second\n",
    "    prepared_sample = wave_data[0::int(wave_rate/data_point_per_second)]\n",
    "    #We normalize each sample before extracting 5s samples from it\n",
    "    normalized_sample = sklearn.preprocessing.minmax_scale(prepared_sample, axis=0)\n",
    "    \n",
    "    #only take 5s samples and add them to the dataframe\n",
    "    song_sample = []\n",
    "    sample_length = 5*data_point_per_second\n",
    "    samples_from_file = []\n",
    "    for idx in range(0,len(normalized_sample),sample_length): \n",
    "        song_sample = normalized_sample[idx:idx+sample_length]\n",
    "        if len(song_sample)>=sample_length:\n",
    "            samples_from_file.append({\"song_sample\":np.asarray(song_sample).astype(np.float32),\n",
    "                                            \"bird\":int(ebird_to_id[bird])})\n",
    "    return samples_from_file"
   ]
  },
  {
   "cell_type": "code",
   "execution_count": null,
   "metadata": {},
   "outputs": [],
   "source": [
    "%%time\n",
    "warnings.filterwarnings(\"ignore\")\n",
    "samples_df = pd.DataFrame(columns=[\"song_sample\",\"bird\"])\n",
    "\n",
    "#We limit the number of audio files being sampled to 6000 in this notebook to save time\n",
    "#However, we have already limited the number of bird species\n",
    "sample_limit = 5000\n",
    "sample_list = []\n",
    "with tqdm(total=sample_limit) as pbar:\n",
    "    for idx, row in train_df[:sample_limit].iterrows():\n",
    "        pbar.update(1)\n",
    "        try:\n",
    "            audio_file_path = \"./rawdata/train_audio/\"\n",
    "            audio_file_path += row.ebird_code\n",
    "            \n",
    "            if row.ebird_code in birds_to_recognise:\n",
    "                sample_list += get_sample('{}/{}'.format(audio_file_path, row.filename), row.ebird_code)\n",
    "            else:\n",
    "                sample_list += get_sample('{}/{}'.format(audio_file_path, row.filename), \"nocall\")\n",
    "        except:\n",
    "            print(\"{} is corrupted\".format(audio_file_path))\n",
    "            \n",
    "            \n",
    "#Generate some fake random samples to represent \"no calls\", being 5% of the total samples\n",
    "number_of_nocalls = int(len(samples_df)*0.05)\n",
    "for idx in range(0,number_of_nocalls):\n",
    "    synthetic_nocall = sklearn.preprocessing.minmax_scale(np.random.randn(sequence_length), axis=0)\n",
    "    sample_list += [{\"song_sample\":synthetic_nocall,\n",
    "                    \"bird\":ebird_to_id[\"nocall\"]}]\n",
    "    \n",
    "samples_df = pd.DataFrame(sample_list)"
   ]
  },
  {
   "cell_type": "code",
   "execution_count": null,
   "metadata": {},
   "outputs": [],
   "source": [
    "samples_df = shuffle(samples_df)\n",
    "samples_df[:10]"
   ]
  },
  {
   "cell_type": "code",
   "execution_count": null,
   "metadata": {},
   "outputs": [],
   "source": [
    "plt.plot(samples_df.iloc[0].song_sample)\n",
    "plt.show()"
   ]
  },
  {
   "cell_type": "markdown",
   "metadata": {},
   "source": [
    "# Model Creation"
   ]
  },
  {
   "cell_type": "code",
   "execution_count": null,
   "metadata": {},
   "outputs": [],
   "source": [
    "training_percentage = 0.9\n",
    "training_item_count = int(len(samples_df)*training_percentage)\n",
    "validation_item_count = len(samples_df)-int(len(samples_df)*training_percentage)\n",
    "training_df = samples_df[:training_item_count]\n",
    "validation_df = samples_df[training_item_count:]"
   ]
  },
  {
   "cell_type": "code",
   "execution_count": null,
   "metadata": {},
   "outputs": [],
   "source": [
    "model = Sequential()\n",
    "model.add(LSTM(32, return_sequences=True, recurrent_dropout=0.2,input_shape=(None, sequence_length)))\n",
    "model.add(LSTM(32))\n",
    "model.add(Dense(128))\n",
    "model.add(Dropout(0.3))\n",
    "model.add(Dense(len(ebird_to_id.keys()), activation=\"softmax\"))\n",
    "\n",
    "model.summary()"
   ]
  },
  {
   "cell_type": "code",
   "execution_count": null,
   "metadata": {},
   "outputs": [],
   "source": [
    "callbacks = [ReduceLROnPlateau(monitor='val_loss', patience=2, verbose=1, factor=0.7),\n",
    "             EarlyStopping(monitor='val_loss', patience=10),\n",
    "             ModelCheckpoint(filepath='best_model.h5', monitor='val_loss', save_best_only=True)]\n",
    "model.compile(loss=\"categorical_crossentropy\", optimizer='adam')"
   ]
  },
  {
   "cell_type": "code",
   "execution_count": null,
   "metadata": {},
   "outputs": [],
   "source": [
    "X_train = np.asarray(np.reshape(np.asarray([np.asarray(x) for x in training_df[\"song_sample\"]]),(training_item_count,1,sequence_length))).astype(np.float32)\n",
    "groundtruth = np.asarray([np.asarray(x) for x in training_df[\"bird\"]]).astype(np.float32)\n",
    "Y_train = to_categorical(\n",
    "                groundtruth, num_classes=len(ebird_to_id.keys()), dtype='float32'\n",
    "            )\n",
    "\n",
    "\n",
    "X_validation = np.asarray(np.reshape(np.asarray([np.asarray(x) for x in validation_df[\"song_sample\"]]),(validation_item_count,1,sequence_length))).astype(np.float32)\n",
    "validation_groundtruth = np.asarray([np.asarray(x) for x in validation_df[\"bird\"]]).astype(np.float32)\n",
    "Y_validation = to_categorical(\n",
    "                validation_groundtruth, num_classes=len(ebird_to_id.keys()), dtype='float32'\n",
    "            )"
   ]
  },
  {
   "cell_type": "code",
   "execution_count": null,
   "metadata": {},
   "outputs": [],
   "source": [
    "class_weights = class_weight.compute_class_weight(\"balanced\", samples_df.bird.unique(), samples_df.bird.values)\n",
    "class_weights_dict = {i : class_weights[i] for i in samples_df.bird.unique()}"
   ]
  },
  {
   "cell_type": "markdown",
   "metadata": {},
   "source": [
    "# Model Training"
   ]
  },
  {
   "cell_type": "code",
   "execution_count": null,
   "metadata": {},
   "outputs": [],
   "source": [
    "history = model.fit(X_train, Y_train,\n",
    "          epochs = 200, \n",
    "          batch_size = 32, \n",
    "          validation_data=(X_validation, Y_validation),\n",
    "          class_weight=class_weights_dict,\n",
    "          callbacks=callbacks)"
   ]
  },
  {
   "cell_type": "code",
   "execution_count": null,
   "metadata": {},
   "outputs": [],
   "source": [
    "plt.plot(history.history['loss'])\n",
    "plt.plot(history.history['val_loss'])\n",
    "plt.title('Loss over epochs')\n",
    "plt.ylabel('Loss')\n",
    "plt.xlabel('Epoch')\n",
    "plt.legend(['Train', 'Validation'], loc='best')\n",
    "plt.show()"
   ]
  },
  {
   "cell_type": "code",
   "execution_count": null,
   "metadata": {},
   "outputs": [],
   "source": [
    "preds = model.predict(X_validation)\n",
    "validation_df = pd.DataFrame(columns=[\"prediction\", \"groundtruth\", \"correct_prediction\"])\n",
    "\n",
    "for pred, groundtruth in zip(preds[:30], Y_validation[:30]):\n",
    "    validation_df = validation_df.append({\"prediction\":id_to_ebird[np.argmax(pred)], \n",
    "                                       \"groundtruth\":id_to_ebird[np.argmax(groundtruth)], \n",
    "                                       \"correct_prediction\":np.argmax(pred)==np.argmax(groundtruth)}, ignore_index=True)\n",
    "validation_df"
   ]
  },
  {
   "cell_type": "markdown",
   "metadata": {},
   "source": [
    "# Prediction"
   ]
  },
  {
   "cell_type": "code",
   "execution_count": null,
   "metadata": {},
   "outputs": [],
   "source": [
    "model.load_weights(\"best_model.h5\")"
   ]
  },
  {
   "cell_type": "code",
   "execution_count": null,
   "metadata": {},
   "outputs": [],
   "source": [
    "def predict_submission(df, audio_file_path):\n",
    "        \n",
    "    loaded_audio_sample = []\n",
    "    previous_filename = \"\"\n",
    "    data_point_per_second = 10\n",
    "    sample_length = 5*data_point_per_second\n",
    "    wave_data = []\n",
    "    wave_rate = None\n",
    "    \n",
    "    for idx,row in df.iterrows():\n",
    "        #I added this exception as I've heard that some files may be corrupted.\n",
    "        try:\n",
    "            if previous_filename == \"\" or previous_filename!=row.audio_id:\n",
    "                filename = '{}/{}.mp3'.format(audio_file_path, row.audio_id)\n",
    "                wave_data, wave_rate = librosa.load(filename)\n",
    "                prepared_sample = wave_data[0::int(wave_rate/data_point_per_second)]\n",
    "                sample = sklearn.preprocessing.minmax_scale(prepared_sample, axis=0)\n",
    "            previous_filename = row.audio_id\n",
    "\n",
    "            #basically allows to check if we are running the examples or the test set.\n",
    "            if \"site\" in df.columns:\n",
    "                if row.site==\"site_1\" or row.site==\"site_2\":\n",
    "                    song_sample = np.array(sample[int(row.seconds-5)*data_point_per_second:int(row.seconds)*data_point_per_second])\n",
    "                elif row.site==\"site_3\":\n",
    "                    #for now, I only take the first 5s of the samples from site_3 as they are groundtruthed at file level\n",
    "                    song_sample = np.array(sample[0:sample_length])\n",
    "            else:\n",
    "                #same as the first condition but I isolated it for later and it is for the example file\n",
    "                song_sample = np.array(sample[int(row.seconds-5)*data_point_per_second:int(row.seconds)*data_point_per_second])\n",
    "            \n",
    "            input_data = np.reshape(np.asarray([song_sample]),(1,sequence_length)).astype(np.float32)\n",
    "            prediction = model.predict(np.array([input_data]))\n",
    "            \n",
    "            #condition to ensure that at least one output is activated with \"some\" confidence\n",
    "            if any(prediction[0]>0.3):\n",
    "                predicted_bird = id_to_ebird[np.argmax(prediction)]\n",
    "                df.at[idx,\"birds\"] = predicted_bird\n",
    "            else:\n",
    "                df.at[idx,\"birds\"] = \"nocall\"\n",
    "        except:\n",
    "            df.at[idx,\"birds\"] = \"nocall\"\n",
    "    return df"
   ]
  },
  {
   "cell_type": "code",
   "execution_count": null,
   "metadata": {},
   "outputs": [],
   "source": [
    "audio_file_path = \"/kaggle/input/birdsong-recognition/example_test_audio\"\n",
    "example_df = pd.read_csv(\"/kaggle/input/birdsong-recognition/example_test_audio_summary.csv\")\n",
    "#Ajusting the example filenames and creating the audio_id column to match with the test file.\n",
    "example_df[\"audio_id\"] = [ \"BLKFR-10-CPL_20190611_093000.pt540\" if filename==\"BLKFR-10-CPL\" else \"ORANGE-7-CAP_20190606_093000.pt623\" for filename in example_df[\"filename\"]]\n",
    "\n",
    "if os.path.exists(audio_file_path):\n",
    "    example_df = predict_submission(example_df, audio_file_path)\n",
    "example_df"
   ]
  },
  {
   "cell_type": "code",
   "execution_count": null,
   "metadata": {},
   "outputs": [],
   "source": [
    "test_file_path = \"/kaggle/input/birdsong-recognition/test_audio\"\n",
    "test_df = pd.read_csv(\"/kaggle/input/birdsong-recognition/test.csv\")\n",
    "submission_df = pd.read_csv(\"/kaggle/input/birdsong-recognition/sample_submission.csv\")\n",
    "\n",
    "if os.path.exists(test_file_path):\n",
    "    submission_df = predict_submission(test_df, test_file_path)\n",
    "\n",
    "submission_df[[\"row_id\",\"birds\"]].to_csv('submission.csv', index=False)\n",
    "submission_df.head()"
   ]
  }
 ],
 "metadata": {
  "kernelspec": {
   "display_name": "Python 3",
   "language": "python",
   "name": "python3"
  },
  "language_info": {
   "codemirror_mode": {
    "name": "ipython",
    "version": 3
   },
   "file_extension": ".py",
   "mimetype": "text/x-python",
   "name": "python",
   "nbconvert_exporter": "python",
   "pygments_lexer": "ipython3",
   "version": "3.8.3"
  }
 },
 "nbformat": 4,
 "nbformat_minor": 4
}
