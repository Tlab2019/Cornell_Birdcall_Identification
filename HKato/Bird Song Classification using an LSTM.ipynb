{
 "cells": [
  {
   "cell_type": "markdown",
   "metadata": {},
   "source": [
    "# Introduction"
   ]
  },
  {
   "cell_type": "markdown",
   "metadata": {},
   "source": [
    "This notebook introduces a simple way to prepare the data from the MP3 audio files before feeding it to an LSTM-based model. The model is then trained to classify one of the 264 birds. Please note that this is a work-in-progress and that I have made this code available solely to help everyone to get started with the competition. Of course, feel free to upvote this notebook if you find it useful!\n"
   ]
  },
  {
   "cell_type": "markdown",
   "metadata": {},
   "source": [
    "\n",
    "* **V9:** The entire pipeline now works from data preparation to model predictions and submission.\n",
    "* **V11:** As the model is failing to classify \"no call\" samples due to the lack of existing data, I am adding a check at prediction time. This check automatically classifies a sample as \"no call\" if none of the model's outputs are not activated with high confidence. *score: 0.50*\n",
    "* **V12:** Attempt to include all bird categories in the dataset/model and increase the confidence level required to take the model's output into account. *score: 0.54*\n",
    "* **V13:** The previous version taught us that the model did not learn to predict anything with high confidence. Therefore, this version will try to reduce the number of bird species being taught. The goal in this version is just to beat the baseline. *score: 0.53*\n",
    "* **V17:** Attempting classification of many bird species at the same time did not prove to be successful. In this version, we try to classify only 5 species while **all** other species will be categorised as other/nocall. \n",
    "* **V18:** We try to recognise 20 species instead of just 5 as V18 did not learn at all despite the use of class weights."
   ]
  },
  {
   "cell_type": "code",
   "execution_count": 1,
   "metadata": {
    "_cell_guid": "b1076dfc-b9ad-4769-8c92-a6c4dae69d19",
    "_uuid": "8f2839f25d086af736a60e9eeb907d3b93b6e0e5"
   },
   "outputs": [],
   "source": [
    "import numpy as np\n",
    "import pandas as pd\n",
    "import wave\n",
    "from scipy.io import wavfile\n",
    "import os\n",
    "import librosa\n",
    "import warnings\n",
    "from sklearn.utils import shuffle\n",
    "from sklearn.utils import class_weight\n",
    "import sklearn\n",
    "from tqdm import tqdm\n",
    "\n",
    "import tensorflow as tf\n",
    "from tensorflow.keras.models import Sequential\n",
    "from tensorflow.keras import layers\n",
    "from tensorflow.keras import Input\n",
    "from tensorflow.keras.models import Model\n",
    "from tensorflow.keras.callbacks import ModelCheckpoint, ReduceLROnPlateau, EarlyStopping\n",
    "from tensorflow.keras.utils import to_categorical\n",
    "from tensorflow.keras.layers import Dense, Flatten, Dropout, Activation, LSTM, SimpleRNN, Conv1D\n",
    "\n",
    "import matplotlib.pyplot as plt\n",
    "import seaborn as sns\n",
    "sns.set()"
   ]
  },
  {
   "cell_type": "markdown",
   "metadata": {},
   "source": [
    "# Data preparation"
   ]
  },
  {
   "cell_type": "markdown",
   "metadata": {},
   "source": [
    "In this section, we first create two dictionaries to allow to translate each bird into an ID code and vice versa. As we won't be able to use the entirety of the data in this notebook for processing time reasons, we will shuffle the `DataFrame` with the training data before preparing the data. We will then create a new `DataFrame` where we will store all the samples, of 5 seconds each with a sampling rate of 10 data points per second."
   ]
  },
  {
   "cell_type": "code",
   "execution_count": 2,
   "metadata": {
    "_cell_guid": "79c7e3d0-c299-4dcb-8224-4455121ee9b0",
    "_uuid": "d629ff2d2480ee46fbb7e2d37f6b5fab8052498a"
   },
   "outputs": [],
   "source": [
    "# train_df = pd.read_csv('/kaggle/input/birdsong-recognition/train.csv')\n",
    "train_df = pd.read_csv('./rawdata/train.csv')"
   ]
  },
  {
   "cell_type": "markdown",
   "metadata": {},
   "source": [
    "It looks like each ebird is associated with a \"reasonable\" amount of samples. We only keep the bird species with 100 samples of the highest quality (4 or 5) to make the problem easier to start with."
   ]
  },
  {
   "cell_type": "code",
   "execution_count": 3,
   "metadata": {},
   "outputs": [],
   "source": [
    "train_df = train_df.query(\"rating>=4\")\n",
    "\n",
    "birds_count = {}\n",
    "for bird_species, count in zip(train_df.ebird_code.unique(), train_df.groupby(\"ebird_code\")[\"ebird_code\"].count().values):\n",
    "    birds_count[bird_species] = count\n",
    "most_represented_birds = [key for key,value in birds_count.items() if value == 100]\n",
    "\n",
    "train_df = train_df.query(\"ebird_code in @most_represented_birds\")"
   ]
  },
  {
   "cell_type": "markdown",
   "metadata": {},
   "source": [
    "We now have only 49 bird species left in our dataset."
   ]
  },
  {
   "cell_type": "code",
   "execution_count": 5,
   "metadata": {},
   "outputs": [
    {
     "data": {
      "text/plain": [
       "49"
      ]
     },
     "execution_count": 5,
     "metadata": {},
     "output_type": "execute_result"
    }
   ],
   "source": [
    "len(train_df.ebird_code.unique())"
   ]
  },
  {
   "cell_type": "code",
   "execution_count": 11,
   "metadata": {},
   "outputs": [
    {
     "name": "stdout",
     "output_type": "stream",
     "text": [
      "['warvir', 'gnwtea', 'normoc', 'whcspa', 'spotow', 'comrav', 'astfly', 'orcwar', 'houspa', 'redcro', 'bkhgro', 'linspa', 'chispa', 'norcar', 'grhowl', 'mallar3', 'wewpew', 'rewbla', 'easmea', 'bewwre']\n"
     ]
    }
   ],
   "source": [
    "birds_to_recognise = shuffle(most_represented_birds)[:20]\n",
    "print(birds_to_recognise)"
   ]
  },
  {
   "cell_type": "markdown",
   "metadata": {},
   "source": [
    "We build 2 dictionaries to translate the ebird code into an integer and vice versa."
   ]
  },
  {
   "cell_type": "code",
   "execution_count": 12,
   "metadata": {},
   "outputs": [],
   "source": [
    "sequence_length = 50\n",
    "\n",
    "ebird_to_id = {}\n",
    "id_to_ebird = {}\n",
    "ebird_to_id[\"nocall\"] = 0\n",
    "id_to_ebird[0] = \"nocall\"\n",
    "for idx, unique_ebird_code in enumerate(birds_to_recognise):\n",
    "    ebird_to_id[unique_ebird_code] = str(idx+1)\n",
    "    id_to_ebird[idx+1] = str(unique_ebird_code)"
   ]
  },
  {
   "cell_type": "code",
   "execution_count": 13,
   "metadata": {},
   "outputs": [
    {
     "data": {
      "text/html": [
       "<div>\n",
       "<style scoped>\n",
       "    .dataframe tbody tr th:only-of-type {\n",
       "        vertical-align: middle;\n",
       "    }\n",
       "\n",
       "    .dataframe tbody tr th {\n",
       "        vertical-align: top;\n",
       "    }\n",
       "\n",
       "    .dataframe thead th {\n",
       "        text-align: right;\n",
       "    }\n",
       "</style>\n",
       "<table border=\"1\" class=\"dataframe\">\n",
       "  <thead>\n",
       "    <tr style=\"text-align: right;\">\n",
       "      <th></th>\n",
       "      <th>rating</th>\n",
       "      <th>playback_used</th>\n",
       "      <th>ebird_code</th>\n",
       "      <th>channels</th>\n",
       "      <th>date</th>\n",
       "      <th>pitch</th>\n",
       "      <th>duration</th>\n",
       "      <th>filename</th>\n",
       "      <th>speed</th>\n",
       "      <th>species</th>\n",
       "      <th>...</th>\n",
       "      <th>xc_id</th>\n",
       "      <th>url</th>\n",
       "      <th>country</th>\n",
       "      <th>author</th>\n",
       "      <th>primary_label</th>\n",
       "      <th>longitude</th>\n",
       "      <th>length</th>\n",
       "      <th>time</th>\n",
       "      <th>recordist</th>\n",
       "      <th>license</th>\n",
       "    </tr>\n",
       "  </thead>\n",
       "  <tbody>\n",
       "    <tr>\n",
       "      <th>19916</th>\n",
       "      <td>5.0</td>\n",
       "      <td>no</td>\n",
       "      <td>whcspa</td>\n",
       "      <td>2 (stereo)</td>\n",
       "      <td>2019-05-19</td>\n",
       "      <td>Not specified</td>\n",
       "      <td>15</td>\n",
       "      <td>XC478421.mp3</td>\n",
       "      <td>level</td>\n",
       "      <td>White-crowned Sparrow</td>\n",
       "      <td>...</td>\n",
       "      <td>478421</td>\n",
       "      <td>https://www.xeno-canto.org/478421</td>\n",
       "      <td>Canada</td>\n",
       "      <td>Guy Breton</td>\n",
       "      <td>Zonotrichia leucophrys_White-crowned Sparrow</td>\n",
       "      <td>-71.309</td>\n",
       "      <td>0-3(s)</td>\n",
       "      <td>08:30</td>\n",
       "      <td>Guy Breton</td>\n",
       "      <td>Creative Commons Attribution-NonCommercial-Sha...</td>\n",
       "    </tr>\n",
       "    <tr>\n",
       "      <th>6413</th>\n",
       "      <td>5.0</td>\n",
       "      <td>no</td>\n",
       "      <td>comrav</td>\n",
       "      <td>2 (stereo)</td>\n",
       "      <td>2013-03-10</td>\n",
       "      <td>Not specified</td>\n",
       "      <td>21</td>\n",
       "      <td>XC124411.mp3</td>\n",
       "      <td>Not specified</td>\n",
       "      <td>Northern Raven</td>\n",
       "      <td>...</td>\n",
       "      <td>124411</td>\n",
       "      <td>https://www.xeno-canto.org/124411</td>\n",
       "      <td>Slovakia</td>\n",
       "      <td>Ľubomír Haluška</td>\n",
       "      <td>Corvus corax_Common Raven</td>\n",
       "      <td>19.2856</td>\n",
       "      <td>Not specified</td>\n",
       "      <td>15:00</td>\n",
       "      <td>Ľubomír Haluška</td>\n",
       "      <td>Creative Commons Attribution-NonCommercial-Sha...</td>\n",
       "    </tr>\n",
       "    <tr>\n",
       "      <th>12842</th>\n",
       "      <td>5.0</td>\n",
       "      <td>no</td>\n",
       "      <td>marwre</td>\n",
       "      <td>1 (mono)</td>\n",
       "      <td>2018-05-06</td>\n",
       "      <td>both</td>\n",
       "      <td>5</td>\n",
       "      <td>XC417865.mp3</td>\n",
       "      <td>accelerating</td>\n",
       "      <td>Marsh Wren</td>\n",
       "      <td>...</td>\n",
       "      <td>417865</td>\n",
       "      <td>https://www.xeno-canto.org/417865</td>\n",
       "      <td>United States</td>\n",
       "      <td>Sue Riffe</td>\n",
       "      <td>Cistothorus palustris_Marsh Wren</td>\n",
       "      <td>-83.2065</td>\n",
       "      <td>0-3(s)</td>\n",
       "      <td>08:55</td>\n",
       "      <td>Sue Riffe</td>\n",
       "      <td>Creative Commons Attribution-NonCommercial-Sha...</td>\n",
       "    </tr>\n",
       "    <tr>\n",
       "      <th>17953</th>\n",
       "      <td>5.0</td>\n",
       "      <td>no</td>\n",
       "      <td>sonspa</td>\n",
       "      <td>1 (mono)</td>\n",
       "      <td>2017-04-21</td>\n",
       "      <td>Not specified</td>\n",
       "      <td>169</td>\n",
       "      <td>XC393994.mp3</td>\n",
       "      <td>Not specified</td>\n",
       "      <td>Song Sparrow</td>\n",
       "      <td>...</td>\n",
       "      <td>393994</td>\n",
       "      <td>https://www.xeno-canto.org/393994</td>\n",
       "      <td>United States</td>\n",
       "      <td>Dominic Garcia-Hall</td>\n",
       "      <td>Melospiza melodia_Song Sparrow</td>\n",
       "      <td>-74.0217</td>\n",
       "      <td>Not specified</td>\n",
       "      <td>08:00</td>\n",
       "      <td>Dominic Garcia-Hall</td>\n",
       "      <td>Creative Commons Attribution-NonCommercial-Sha...</td>\n",
       "    </tr>\n",
       "    <tr>\n",
       "      <th>18247</th>\n",
       "      <td>5.0</td>\n",
       "      <td>no</td>\n",
       "      <td>spotow</td>\n",
       "      <td>1 (mono)</td>\n",
       "      <td>2016-08-15</td>\n",
       "      <td>Not specified</td>\n",
       "      <td>35</td>\n",
       "      <td>XC391164.mp3</td>\n",
       "      <td>Not specified</td>\n",
       "      <td>Spotted Towhee</td>\n",
       "      <td>...</td>\n",
       "      <td>391164</td>\n",
       "      <td>https://www.xeno-canto.org/391164</td>\n",
       "      <td>United States</td>\n",
       "      <td>Antonio Xeira</td>\n",
       "      <td>Pipilo maculatus_Spotted Towhee</td>\n",
       "      <td>-109.3172</td>\n",
       "      <td>Not specified</td>\n",
       "      <td>08:00</td>\n",
       "      <td>Antonio Xeira</td>\n",
       "      <td>Creative Commons Attribution-NonCommercial-Sha...</td>\n",
       "    </tr>\n",
       "  </tbody>\n",
       "</table>\n",
       "<p>5 rows × 35 columns</p>\n",
       "</div>"
      ],
      "text/plain": [
       "       rating playback_used ebird_code    channels        date          pitch  \\\n",
       "19916     5.0            no     whcspa  2 (stereo)  2019-05-19  Not specified   \n",
       "6413      5.0            no     comrav  2 (stereo)  2013-03-10  Not specified   \n",
       "12842     5.0            no     marwre    1 (mono)  2018-05-06           both   \n",
       "17953     5.0            no     sonspa    1 (mono)  2017-04-21  Not specified   \n",
       "18247     5.0            no     spotow    1 (mono)  2016-08-15  Not specified   \n",
       "\n",
       "       duration      filename          speed                species  ...  \\\n",
       "19916        15  XC478421.mp3          level  White-crowned Sparrow  ...   \n",
       "6413         21  XC124411.mp3  Not specified         Northern Raven  ...   \n",
       "12842         5  XC417865.mp3   accelerating             Marsh Wren  ...   \n",
       "17953       169  XC393994.mp3  Not specified           Song Sparrow  ...   \n",
       "18247        35  XC391164.mp3  Not specified         Spotted Towhee  ...   \n",
       "\n",
       "        xc_id                                url        country  \\\n",
       "19916  478421  https://www.xeno-canto.org/478421         Canada   \n",
       "6413   124411  https://www.xeno-canto.org/124411       Slovakia   \n",
       "12842  417865  https://www.xeno-canto.org/417865  United States   \n",
       "17953  393994  https://www.xeno-canto.org/393994  United States   \n",
       "18247  391164  https://www.xeno-canto.org/391164  United States   \n",
       "\n",
       "                    author                                 primary_label  \\\n",
       "19916           Guy Breton  Zonotrichia leucophrys_White-crowned Sparrow   \n",
       "6413       Ľubomír Haluška                     Corvus corax_Common Raven   \n",
       "12842            Sue Riffe              Cistothorus palustris_Marsh Wren   \n",
       "17953  Dominic Garcia-Hall                Melospiza melodia_Song Sparrow   \n",
       "18247        Antonio Xeira               Pipilo maculatus_Spotted Towhee   \n",
       "\n",
       "       longitude         length   time            recordist  \\\n",
       "19916    -71.309         0-3(s)  08:30           Guy Breton   \n",
       "6413     19.2856  Not specified  15:00      Ľubomír Haluška   \n",
       "12842   -83.2065         0-3(s)  08:55            Sue Riffe   \n",
       "17953   -74.0217  Not specified  08:00  Dominic Garcia-Hall   \n",
       "18247  -109.3172  Not specified  08:00        Antonio Xeira   \n",
       "\n",
       "                                                 license  \n",
       "19916  Creative Commons Attribution-NonCommercial-Sha...  \n",
       "6413   Creative Commons Attribution-NonCommercial-Sha...  \n",
       "12842  Creative Commons Attribution-NonCommercial-Sha...  \n",
       "17953  Creative Commons Attribution-NonCommercial-Sha...  \n",
       "18247  Creative Commons Attribution-NonCommercial-Sha...  \n",
       "\n",
       "[5 rows x 35 columns]"
      ]
     },
     "execution_count": 13,
     "metadata": {},
     "output_type": "execute_result"
    }
   ],
   "source": [
    "train_df = shuffle(train_df)\n",
    "train_df.head()"
   ]
  },
  {
   "cell_type": "code",
   "execution_count": 14,
   "metadata": {},
   "outputs": [
    {
     "data": {
      "text/plain": [
       "4900"
      ]
     },
     "execution_count": 14,
     "metadata": {},
     "output_type": "execute_result"
    }
   ],
   "source": [
    "len(train_df)"
   ]
  },
  {
   "cell_type": "code",
   "execution_count": 15,
   "metadata": {},
   "outputs": [],
   "source": [
    "def get_sample(filename, bird):\n",
    "    wave_data, wave_rate = librosa.load(filename)\n",
    "    data_point_per_second = int(sequence_length/5)\n",
    "    \n",
    "    #Take 10 data points every second\n",
    "    prepared_sample = wave_data[0::int(wave_rate/data_point_per_second)]\n",
    "    #We normalize each sample before extracting 5s samples from it\n",
    "    normalized_sample = sklearn.preprocessing.minmax_scale(prepared_sample, axis=0)\n",
    "    \n",
    "    #only take 5s samples and add them to the dataframe\n",
    "    song_sample = []\n",
    "    sample_length = 5*data_point_per_second\n",
    "    samples_from_file = []\n",
    "    for idx in range(0,len(normalized_sample),sample_length): \n",
    "        song_sample = normalized_sample[idx:idx+sample_length]\n",
    "        if len(song_sample)>=sample_length:\n",
    "            samples_from_file.append({\"song_sample\":np.asarray(song_sample).astype(np.float32),\n",
    "                                            \"bird\":int(ebird_to_id[bird])})\n",
    "    return samples_from_file"
   ]
  },
  {
   "cell_type": "markdown",
   "metadata": {},
   "source": [
    "The following cell will set all the samples with non-selected birds to the \"nocall\" ID code. This allows to focus on the classification of the 5 selected bird species while all of bird species will be categorised as \"nocall\"."
   ]
  },
  {
   "cell_type": "code",
   "execution_count": null,
   "metadata": {},
   "outputs": [
    {
     "name": "stderr",
     "output_type": "stream",
     "text": [
      "  0%|                                                                                 | 4/5000 [00:00<05:00, 16.64it/s]"
     ]
    },
    {
     "name": "stdout",
     "output_type": "stream",
     "text": [
      "/kaggle/input/birdsong-recognition/train_audio/whcspa is corrupted\n",
      "/kaggle/input/birdsong-recognition/train_audio/comrav is corrupted\n",
      "/kaggle/input/birdsong-recognition/train_audio/marwre is corrupted\n",
      "/kaggle/input/birdsong-recognition/train_audio/sonspa is corrupted"
     ]
    },
    {
     "name": "stderr",
     "output_type": "stream",
     "text": [
      "  0%|▏                                                                                | 8/5000 [00:00<05:04, 16.41it/s]"
     ]
    },
    {
     "name": "stdout",
     "output_type": "stream",
     "text": [
      "\n",
      "/kaggle/input/birdsong-recognition/train_audio/spotow is corrupted\n",
      "/kaggle/input/birdsong-recognition/train_audio/daejun is corrupted\n",
      "/kaggle/input/birdsong-recognition/train_audio/normoc is corrupted\n"
     ]
    },
    {
     "name": "stderr",
     "output_type": "stream",
     "text": [
      "  0%|▏                                                                               | 12/5000 [00:00<05:17, 15.70it/s]"
     ]
    },
    {
     "name": "stdout",
     "output_type": "stream",
     "text": [
      "/kaggle/input/birdsong-recognition/train_audio/cangoo is corrupted\n",
      "/kaggle/input/birdsong-recognition/train_audio/amered is corrupted\n",
      "/kaggle/input/birdsong-recognition/train_audio/amered is corrupted\n",
      "/kaggle/input/birdsong-recognition/train_audio/eastow is corrupted\n"
     ]
    },
    {
     "name": "stderr",
     "output_type": "stream",
     "text": [
      "  0%|▏                                                                               | 14/5000 [00:00<05:19, 15.60it/s]"
     ]
    },
    {
     "name": "stdout",
     "output_type": "stream",
     "text": [
      "/kaggle/input/birdsong-recognition/train_audio/horlar is corrupted\n",
      "/kaggle/input/birdsong-recognition/train_audio/norcar is corrupted\n",
      "/kaggle/input/birdsong-recognition/train_audio/greegr is corrupted\n"
     ]
    },
    {
     "name": "stderr",
     "output_type": "stream",
     "text": [
      "  0%|▎                                                                               | 18/5000 [00:01<05:18, 15.66it/s]"
     ]
    },
    {
     "name": "stdout",
     "output_type": "stream",
     "text": [
      "/kaggle/input/birdsong-recognition/train_audio/linspa is corrupted\n",
      "/kaggle/input/birdsong-recognition/train_audio/whcspa is corrupted\n",
      "/kaggle/input/birdsong-recognition/train_audio/rewbla is corrupted\n",
      "/kaggle/input/birdsong-recognition/train_audio/comred is corrupted"
     ]
    },
    {
     "name": "stderr",
     "output_type": "stream",
     "text": [
      "  0%|▎                                                                               | 20/5000 [00:01<05:17, 15.68it/s]"
     ]
    },
    {
     "name": "stdout",
     "output_type": "stream",
     "text": [
      "\n",
      "/kaggle/input/birdsong-recognition/train_audio/houspa is corrupted\n",
      "/kaggle/input/birdsong-recognition/train_audio/swathr is corrupted\n",
      "/kaggle/input/birdsong-recognition/train_audio/whbnut is corrupted"
     ]
    },
    {
     "name": "stderr",
     "output_type": "stream",
     "text": [
      "  0%|▍                                                                               | 24/5000 [00:01<05:17, 15.69it/s]"
     ]
    },
    {
     "name": "stdout",
     "output_type": "stream",
     "text": [
      "\n",
      "/kaggle/input/birdsong-recognition/train_audio/orcwar is corrupted\n",
      "/kaggle/input/birdsong-recognition/train_audio/redcro is corrupted\n",
      "/kaggle/input/birdsong-recognition/train_audio/blujay is corrupted\n"
     ]
    },
    {
     "name": "stderr",
     "output_type": "stream",
     "text": [
      "  1%|▍                                                                               | 28/5000 [00:01<05:16, 15.69it/s]"
     ]
    },
    {
     "name": "stdout",
     "output_type": "stream",
     "text": [
      "/kaggle/input/birdsong-recognition/train_audio/warvir is corrupted\n",
      "/kaggle/input/birdsong-recognition/train_audio/warvir is corrupted\n",
      "/kaggle/input/birdsong-recognition/train_audio/carwre is corrupted\n"
     ]
    },
    {
     "name": "stderr",
     "output_type": "stream",
     "text": [
      "  1%|▍                                                                               | 30/5000 [00:01<05:17, 15.66it/s]"
     ]
    },
    {
     "name": "stdout",
     "output_type": "stream",
     "text": [
      "/kaggle/input/birdsong-recognition/train_audio/linspa is corrupted\n",
      "/kaggle/input/birdsong-recognition/train_audio/houspa is corrupted\n",
      "/kaggle/input/birdsong-recognition/train_audio/houfin is corrupted\n",
      "/kaggle/input/birdsong-recognition/train_audio/tuftit is corrupted"
     ]
    },
    {
     "name": "stderr",
     "output_type": "stream",
     "text": [
      "  1%|▌                                                                               | 34/5000 [00:02<05:19, 15.55it/s]"
     ]
    },
    {
     "name": "stdout",
     "output_type": "stream",
     "text": [
      "\n",
      "/kaggle/input/birdsong-recognition/train_audio/bewwre is corrupted\n",
      "/kaggle/input/birdsong-recognition/train_audio/bewwre is corrupted\n",
      "/kaggle/input/birdsong-recognition/train_audio/daejun is corrupted\n"
     ]
    },
    {
     "name": "stderr",
     "output_type": "stream",
     "text": [
      "  1%|▌                                                                               | 38/5000 [00:02<05:18, 15.57it/s]"
     ]
    },
    {
     "name": "stdout",
     "output_type": "stream",
     "text": [
      "/kaggle/input/birdsong-recognition/train_audio/chispa is corrupted\n",
      "/kaggle/input/birdsong-recognition/train_audio/astfly is corrupted\n",
      "/kaggle/input/birdsong-recognition/train_audio/carwre is corrupted\n",
      "/kaggle/input/birdsong-recognition/train_audio/wesmea is corrupted\n"
     ]
    },
    {
     "name": "stderr",
     "output_type": "stream",
     "text": [
      "  1%|▋                                                                               | 42/5000 [00:02<05:14, 15.78it/s]"
     ]
    },
    {
     "name": "stdout",
     "output_type": "stream",
     "text": [
      "/kaggle/input/birdsong-recognition/train_audio/whtspa is corrupted\n",
      "/kaggle/input/birdsong-recognition/train_audio/ovenbi1 is corrupted\n",
      "/kaggle/input/birdsong-recognition/train_audio/redcro is corrupted\n",
      "/kaggle/input/birdsong-recognition/train_audio/comyel is corrupted"
     ]
    },
    {
     "name": "stderr",
     "output_type": "stream",
     "text": [
      "  1%|▋                                                                               | 44/5000 [00:02<05:18, 15.55it/s]"
     ]
    },
    {
     "name": "stdout",
     "output_type": "stream",
     "text": [
      "\n",
      "/kaggle/input/birdsong-recognition/train_audio/whcspa is corrupted\n",
      "/kaggle/input/birdsong-recognition/train_audio/eucdov is corrupted\n",
      "/kaggle/input/birdsong-recognition/train_audio/savspa is corrupted"
     ]
    },
    {
     "name": "stderr",
     "output_type": "stream",
     "text": [
      "  1%|▊                                                                               | 48/5000 [00:03<05:18, 15.57it/s]"
     ]
    },
    {
     "name": "stdout",
     "output_type": "stream",
     "text": [
      "\n",
      "/kaggle/input/birdsong-recognition/train_audio/bewwre is corrupted\n",
      "/kaggle/input/birdsong-recognition/train_audio/amecro is corrupted\n",
      "/kaggle/input/birdsong-recognition/train_audio/astfly is corrupted"
     ]
    },
    {
     "name": "stderr",
     "output_type": "stream",
     "text": [
      "  1%|▊                                                                               | 50/5000 [00:03<05:12, 15.86it/s]"
     ]
    },
    {
     "name": "stdout",
     "output_type": "stream",
     "text": [
      "\n",
      "/kaggle/input/birdsong-recognition/train_audio/mallar3 is corrupted\n",
      "/kaggle/input/birdsong-recognition/train_audio/rewbla is corrupted\n",
      "/kaggle/input/birdsong-recognition/train_audio/whbnut is corrupted"
     ]
    },
    {
     "name": "stderr",
     "output_type": "stream",
     "text": [
      "  1%|▊                                                                               | 54/5000 [00:03<05:19, 15.48it/s]"
     ]
    },
    {
     "name": "stdout",
     "output_type": "stream",
     "text": [
      "\n",
      "/kaggle/input/birdsong-recognition/train_audio/normoc is corrupted\n",
      "/kaggle/input/birdsong-recognition/train_audio/ovenbi1 is corrupted\n",
      "/kaggle/input/birdsong-recognition/train_audio/sonspa is corrupted\n"
     ]
    },
    {
     "name": "stderr",
     "output_type": "stream",
     "text": [
      "  1%|▉                                                                               | 58/5000 [00:03<05:18, 15.53it/s]"
     ]
    },
    {
     "name": "stdout",
     "output_type": "stream",
     "text": [
      "/kaggle/input/birdsong-recognition/train_audio/comrav is corrupted\n",
      "/kaggle/input/birdsong-recognition/train_audio/easmea is corrupted\n",
      "/kaggle/input/birdsong-recognition/train_audio/wewpew is corrupted\n",
      "/kaggle/input/birdsong-recognition/train_audio/whbnut is corrupted"
     ]
    },
    {
     "name": "stderr",
     "output_type": "stream",
     "text": [
      "  1%|▉                                                                               | 60/5000 [00:03<05:16, 15.59it/s]"
     ]
    },
    {
     "name": "stdout",
     "output_type": "stream",
     "text": [
      "\n",
      "/kaggle/input/birdsong-recognition/train_audio/amecro is corrupted\n",
      "/kaggle/input/birdsong-recognition/train_audio/bkhgro is corrupted\n",
      "/kaggle/input/birdsong-recognition/train_audio/comter is corrupted"
     ]
    },
    {
     "name": "stderr",
     "output_type": "stream",
     "text": [
      "  1%|█                                                                               | 64/5000 [00:04<05:17, 15.56it/s]"
     ]
    },
    {
     "name": "stdout",
     "output_type": "stream",
     "text": [
      "\n",
      "/kaggle/input/birdsong-recognition/train_audio/gnwtea is corrupted\n",
      "/kaggle/input/birdsong-recognition/train_audio/astfly is corrupted\n"
     ]
    },
    {
     "name": "stderr",
     "output_type": "stream",
     "text": [
      "  1%|█                                                                               | 66/5000 [00:04<05:16, 15.58it/s]"
     ]
    },
    {
     "name": "stdout",
     "output_type": "stream",
     "text": [
      "/kaggle/input/birdsong-recognition/train_audio/astfly is corrupted\n",
      "/kaggle/input/birdsong-recognition/train_audio/spotow is corrupted\n",
      "/kaggle/input/birdsong-recognition/train_audio/normoc is corrupted\n",
      "/kaggle/input/birdsong-recognition/train_audio/greegr is corrupted"
     ]
    },
    {
     "name": "stderr",
     "output_type": "stream",
     "text": [
      "  1%|█                                                                               | 70/5000 [00:04<05:15, 15.63it/s]"
     ]
    },
    {
     "name": "stdout",
     "output_type": "stream",
     "text": [
      "\n",
      "/kaggle/input/birdsong-recognition/train_audio/comyel is corrupted\n",
      "/kaggle/input/birdsong-recognition/train_audio/eucdov is corrupted\n",
      "/kaggle/input/birdsong-recognition/train_audio/savspa is corrupted"
     ]
    },
    {
     "name": "stderr",
     "output_type": "stream",
     "text": [
      "  1%|█▏                                                                              | 72/5000 [00:04<05:15, 15.63it/s]"
     ]
    },
    {
     "name": "stdout",
     "output_type": "stream",
     "text": [
      "\n",
      "/kaggle/input/birdsong-recognition/train_audio/comrav is corrupted\n",
      "/kaggle/input/birdsong-recognition/train_audio/gnwtea is corrupted\n",
      "/kaggle/input/birdsong-recognition/train_audio/barswa is corrupted"
     ]
    },
    {
     "name": "stderr",
     "output_type": "stream",
     "text": [
      "  2%|█▏                                                                              | 76/5000 [00:04<05:14, 15.64it/s]"
     ]
    },
    {
     "name": "stdout",
     "output_type": "stream",
     "text": [
      "\n",
      "/kaggle/input/birdsong-recognition/train_audio/amerob is corrupted\n",
      "/kaggle/input/birdsong-recognition/train_audio/gnwtea is corrupted\n"
     ]
    },
    {
     "name": "stderr",
     "output_type": "stream",
     "text": [
      "  2%|█▏                                                                              | 78/5000 [00:04<05:14, 15.67it/s]"
     ]
    },
    {
     "name": "stdout",
     "output_type": "stream",
     "text": [
      "/kaggle/input/birdsong-recognition/train_audio/linspa is corrupted\n",
      "/kaggle/input/birdsong-recognition/train_audio/cangoo is corrupted\n",
      "/kaggle/input/birdsong-recognition/train_audio/herthr is corrupted\n",
      "/kaggle/input/birdsong-recognition/train_audio/astfly is corrupted"
     ]
    },
    {
     "name": "stderr",
     "output_type": "stream",
     "text": [
      "  2%|█▎                                                                              | 82/5000 [00:05<05:09, 15.91it/s]"
     ]
    },
    {
     "name": "stdout",
     "output_type": "stream",
     "text": [
      "\n",
      "/kaggle/input/birdsong-recognition/train_audio/daejun is corrupted\n",
      "/kaggle/input/birdsong-recognition/train_audio/barswa is corrupted\n",
      "/kaggle/input/birdsong-recognition/train_audio/orcwar is corrupted"
     ]
    },
    {
     "name": "stderr",
     "output_type": "stream",
     "text": [
      "  2%|█▎                                                                              | 84/5000 [00:05<05:15, 15.60it/s]"
     ]
    },
    {
     "name": "stdout",
     "output_type": "stream",
     "text": [
      "\n",
      "/kaggle/input/birdsong-recognition/train_audio/marwre is corrupted\n",
      "/kaggle/input/birdsong-recognition/train_audio/comter is corrupted\n",
      "/kaggle/input/birdsong-recognition/train_audio/comrav is corrupted"
     ]
    },
    {
     "name": "stderr",
     "output_type": "stream",
     "text": [
      "  2%|█▍                                                                              | 88/5000 [00:05<05:11, 15.77it/s]"
     ]
    },
    {
     "name": "stdout",
     "output_type": "stream",
     "text": [
      "\n",
      "/kaggle/input/birdsong-recognition/train_audio/norfli is corrupted\n",
      "/kaggle/input/birdsong-recognition/train_audio/swathr is corrupted\n",
      "/kaggle/input/birdsong-recognition/train_audio/carwre is corrupted\n"
     ]
    },
    {
     "name": "stderr",
     "output_type": "stream",
     "text": [
      "  2%|█▍                                                                              | 92/5000 [00:05<05:11, 15.77it/s]"
     ]
    },
    {
     "name": "stdout",
     "output_type": "stream",
     "text": [
      "/kaggle/input/birdsong-recognition/train_audio/eastow is corrupted\n",
      "/kaggle/input/birdsong-recognition/train_audio/bewwre is corrupted\n",
      "/kaggle/input/birdsong-recognition/train_audio/wewpew is corrupted\n",
      "/kaggle/input/birdsong-recognition/train_audio/amerob is corrupted\n"
     ]
    },
    {
     "name": "stderr",
     "output_type": "stream",
     "text": [
      "  2%|█▌                                                                              | 96/5000 [00:06<05:14, 15.61it/s]"
     ]
    },
    {
     "name": "stdout",
     "output_type": "stream",
     "text": [
      "/kaggle/input/birdsong-recognition/train_audio/warvir is corrupted\n",
      "/kaggle/input/birdsong-recognition/train_audio/comter is corrupted\n",
      "/kaggle/input/birdsong-recognition/train_audio/horlar is corrupted\n",
      "/kaggle/input/birdsong-recognition/train_audio/savspa is corrupted"
     ]
    },
    {
     "name": "stderr",
     "output_type": "stream",
     "text": [
      "  2%|█▌                                                                              | 98/5000 [00:06<05:07, 15.92it/s]"
     ]
    },
    {
     "name": "stdout",
     "output_type": "stream",
     "text": [
      "\n",
      "/kaggle/input/birdsong-recognition/train_audio/barswa is corrupted\n",
      "/kaggle/input/birdsong-recognition/train_audio/buggna is corrupted\n",
      "/kaggle/input/birdsong-recognition/train_audio/eastow is corrupted"
     ]
    },
    {
     "name": "stderr",
     "output_type": "stream",
     "text": [
      "  2%|█▌                                                                             | 102/5000 [00:06<05:13, 15.64it/s]"
     ]
    },
    {
     "name": "stdout",
     "output_type": "stream",
     "text": [
      "\n",
      "/kaggle/input/birdsong-recognition/train_audio/rewbla is corrupted\n",
      "/kaggle/input/birdsong-recognition/train_audio/houwre is corrupted\n",
      "/kaggle/input/birdsong-recognition/train_audio/redcro is corrupted"
     ]
    },
    {
     "name": "stderr",
     "output_type": "stream",
     "text": [
      "  2%|█▋                                                                             | 104/5000 [00:06<05:14, 15.58it/s]"
     ]
    },
    {
     "name": "stdout",
     "output_type": "stream",
     "text": [
      "\n",
      "/kaggle/input/birdsong-recognition/train_audio/orcwar is corrupted\n",
      "/kaggle/input/birdsong-recognition/train_audio/houwre is corrupted\n"
     ]
    },
    {
     "name": "stderr",
     "output_type": "stream",
     "text": [
      "  2%|█▋                                                                             | 108/5000 [00:06<05:14, 15.55it/s]"
     ]
    },
    {
     "name": "stdout",
     "output_type": "stream",
     "text": [
      "/kaggle/input/birdsong-recognition/train_audio/horlar is corrupted\n",
      "/kaggle/input/birdsong-recognition/train_audio/ovenbi1 is corrupted\n",
      "/kaggle/input/birdsong-recognition/train_audio/barswa is corrupted\n",
      "/kaggle/input/birdsong-recognition/train_audio/horlar is corrupted\n"
     ]
    },
    {
     "name": "stderr",
     "output_type": "stream",
     "text": [
      "  2%|█▊                                                                             | 112/5000 [00:07<05:14, 15.53it/s]"
     ]
    },
    {
     "name": "stdout",
     "output_type": "stream",
     "text": [
      "/kaggle/input/birdsong-recognition/train_audio/amered is corrupted\n",
      "/kaggle/input/birdsong-recognition/train_audio/whtspa is corrupted\n",
      "/kaggle/input/birdsong-recognition/train_audio/wesmea is corrupted\n"
     ]
    },
    {
     "name": "stderr",
     "output_type": "stream",
     "text": [
      "  2%|█▊                                                                             | 114/5000 [00:07<05:14, 15.52it/s]"
     ]
    },
    {
     "name": "stdout",
     "output_type": "stream",
     "text": [
      "/kaggle/input/birdsong-recognition/train_audio/easmea is corrupted\n",
      "/kaggle/input/birdsong-recognition/train_audio/easmea is corrupted\n",
      "/kaggle/input/birdsong-recognition/train_audio/comred is corrupted\n",
      "/kaggle/input/birdsong-recognition/train_audio/normoc is corrupted"
     ]
    },
    {
     "name": "stderr",
     "output_type": "stream",
     "text": [
      "  2%|█▊                                                                             | 118/5000 [00:07<05:13, 15.55it/s]"
     ]
    },
    {
     "name": "stdout",
     "output_type": "stream",
     "text": [
      "\n",
      "/kaggle/input/birdsong-recognition/train_audio/herthr is corrupted\n",
      "/kaggle/input/birdsong-recognition/train_audio/comrav is corrupted\n"
     ]
    },
    {
     "name": "stderr",
     "output_type": "stream",
     "text": [
      "  2%|█▉                                                                             | 120/5000 [00:07<05:09, 15.79it/s]"
     ]
    },
    {
     "name": "stdout",
     "output_type": "stream",
     "text": [
      "/kaggle/input/birdsong-recognition/train_audio/whbnut is corrupted\n",
      "/kaggle/input/birdsong-recognition/train_audio/bkhgro is corrupted\n",
      "/kaggle/input/birdsong-recognition/train_audio/daejun is corrupted\n",
      "/kaggle/input/birdsong-recognition/train_audio/buggna is corrupted"
     ]
    },
    {
     "name": "stderr",
     "output_type": "stream",
     "text": [
      "  2%|█▉                                                                             | 124/5000 [00:07<05:13, 15.57it/s]"
     ]
    },
    {
     "name": "stdout",
     "output_type": "stream",
     "text": [
      "\n",
      "/kaggle/input/birdsong-recognition/train_audio/savspa is corrupted\n",
      "/kaggle/input/birdsong-recognition/train_audio/houfin is corrupted\n",
      "/kaggle/input/birdsong-recognition/train_audio/houfin is corrupted"
     ]
    },
    {
     "name": "stderr",
     "output_type": "stream",
     "text": [
      "  3%|█▉                                                                             | 126/5000 [00:08<05:10, 15.69it/s]"
     ]
    },
    {
     "name": "stdout",
     "output_type": "stream",
     "text": [
      "\n",
      "/kaggle/input/birdsong-recognition/train_audio/spotow is corrupted\n",
      "/kaggle/input/birdsong-recognition/train_audio/eastow is corrupted\n",
      "/kaggle/input/birdsong-recognition/train_audio/bewwre is corrupted"
     ]
    },
    {
     "name": "stderr",
     "output_type": "stream",
     "text": [
      "  3%|██                                                                             | 130/5000 [00:08<05:11, 15.62it/s]"
     ]
    },
    {
     "name": "stdout",
     "output_type": "stream",
     "text": [
      "\n",
      "/kaggle/input/birdsong-recognition/train_audio/linspa is corrupted\n",
      "/kaggle/input/birdsong-recognition/train_audio/normoc is corrupted\n"
     ]
    },
    {
     "name": "stderr",
     "output_type": "stream",
     "text": [
      "  3%|██                                                                             | 132/5000 [00:08<05:11, 15.62it/s]"
     ]
    },
    {
     "name": "stdout",
     "output_type": "stream",
     "text": [
      "/kaggle/input/birdsong-recognition/train_audio/blujay is corrupted\n",
      "/kaggle/input/birdsong-recognition/train_audio/comred is corrupted\n",
      "/kaggle/input/birdsong-recognition/train_audio/bkhgro is corrupted\n",
      "/kaggle/input/birdsong-recognition/train_audio/whcspa is corrupted"
     ]
    },
    {
     "name": "stderr",
     "output_type": "stream",
     "text": [
      "  3%|██▏                                                                            | 136/5000 [00:08<05:11, 15.61it/s]"
     ]
    },
    {
     "name": "stdout",
     "output_type": "stream",
     "text": [
      "\n",
      "/kaggle/input/birdsong-recognition/train_audio/amered is corrupted\n",
      "/kaggle/input/birdsong-recognition/train_audio/eucdov is corrupted\n",
      "/kaggle/input/birdsong-recognition/train_audio/sonspa is corrupted\n"
     ]
    },
    {
     "name": "stderr",
     "output_type": "stream",
     "text": [
      "  3%|██▏                                                                            | 140/5000 [00:08<05:14, 15.44it/s]"
     ]
    },
    {
     "name": "stdout",
     "output_type": "stream",
     "text": [
      "/kaggle/input/birdsong-recognition/train_audio/chispa is corrupted\n",
      "/kaggle/input/birdsong-recognition/train_audio/wewpew is corrupted\n",
      "/kaggle/input/birdsong-recognition/train_audio/barswa is corrupted\n",
      "/kaggle/input/birdsong-recognition/train_audio/whcspa is corrupted"
     ]
    },
    {
     "name": "stderr",
     "output_type": "stream",
     "text": [
      "  3%|██▏                                                                            | 142/5000 [00:09<05:13, 15.47it/s]"
     ]
    },
    {
     "name": "stdout",
     "output_type": "stream",
     "text": [
      "\n",
      "/kaggle/input/birdsong-recognition/train_audio/eastow is corrupted\n",
      "/kaggle/input/birdsong-recognition/train_audio/comred is corrupted\n",
      "/kaggle/input/birdsong-recognition/train_audio/marwre is corrupted"
     ]
    },
    {
     "name": "stderr",
     "output_type": "stream",
     "text": [
      "  3%|██▎                                                                            | 146/5000 [00:09<05:09, 15.67it/s]"
     ]
    },
    {
     "name": "stdout",
     "output_type": "stream",
     "text": [
      "\n",
      "/kaggle/input/birdsong-recognition/train_audio/comrav is corrupted\n",
      "/kaggle/input/birdsong-recognition/train_audio/whbnut is corrupted\n",
      "/kaggle/input/birdsong-recognition/train_audio/blujay is corrupted"
     ]
    },
    {
     "name": "stderr",
     "output_type": "stream",
     "text": [
      "  3%|██▎                                                                            | 148/5000 [00:09<05:12, 15.55it/s]"
     ]
    },
    {
     "name": "stdout",
     "output_type": "stream",
     "text": [
      "\n",
      "/kaggle/input/birdsong-recognition/train_audio/chispa is corrupted\n",
      "/kaggle/input/birdsong-recognition/train_audio/easmea is corrupted\n"
     ]
    },
    {
     "name": "stderr",
     "output_type": "stream",
     "text": [
      "  3%|██▍                                                                            | 152/5000 [00:09<05:12, 15.49it/s]"
     ]
    },
    {
     "name": "stdout",
     "output_type": "stream",
     "text": [
      "/kaggle/input/birdsong-recognition/train_audio/eastow is corrupted\n",
      "/kaggle/input/birdsong-recognition/train_audio/houfin is corrupted\n",
      "/kaggle/input/birdsong-recognition/train_audio/norcar is corrupted\n",
      "/kaggle/input/birdsong-recognition/train_audio/redcro is corrupted"
     ]
    },
    {
     "name": "stderr",
     "output_type": "stream",
     "text": [
      "  3%|██▍                                                                            | 154/5000 [00:09<05:13, 15.46it/s]"
     ]
    },
    {
     "name": "stdout",
     "output_type": "stream",
     "text": [
      "\n",
      "/kaggle/input/birdsong-recognition/train_audio/gnwtea is corrupted\n",
      "/kaggle/input/birdsong-recognition/train_audio/daejun is corrupted\n",
      "/kaggle/input/birdsong-recognition/train_audio/savspa is corrupted"
     ]
    },
    {
     "name": "stderr",
     "output_type": "stream",
     "text": [
      "  3%|██▍                                                                            | 158/5000 [00:10<05:13, 15.46it/s]"
     ]
    },
    {
     "name": "stdout",
     "output_type": "stream",
     "text": [
      "\n",
      "/kaggle/input/birdsong-recognition/train_audio/amered is corrupted\n",
      "/kaggle/input/birdsong-recognition/train_audio/spotow is corrupted\n",
      "/kaggle/input/birdsong-recognition/train_audio/amecro is corrupted"
     ]
    },
    {
     "name": "stderr",
     "output_type": "stream",
     "text": [
      "  3%|██▌                                                                            | 160/5000 [00:10<05:12, 15.47it/s]"
     ]
    },
    {
     "name": "stdout",
     "output_type": "stream",
     "text": [
      "\n",
      "/kaggle/input/birdsong-recognition/train_audio/gnwtea is corrupted\n",
      "/kaggle/input/birdsong-recognition/train_audio/buggna is corrupted\n"
     ]
    },
    {
     "name": "stderr",
     "output_type": "stream",
     "text": [
      "  3%|██▌                                                                            | 164/5000 [00:10<05:10, 15.59it/s]"
     ]
    },
    {
     "name": "stdout",
     "output_type": "stream",
     "text": [
      "/kaggle/input/birdsong-recognition/train_audio/cangoo is corrupted\n",
      "/kaggle/input/birdsong-recognition/train_audio/daejun is corrupted\n",
      "/kaggle/input/birdsong-recognition/train_audio/spotow is corrupted\n",
      "/kaggle/input/birdsong-recognition/train_audio/sonspa is corrupted\n"
     ]
    },
    {
     "name": "stderr",
     "output_type": "stream",
     "text": [
      "  3%|██▋                                                                            | 168/5000 [00:10<05:06, 15.78it/s]"
     ]
    },
    {
     "name": "stdout",
     "output_type": "stream",
     "text": [
      "/kaggle/input/birdsong-recognition/train_audio/bewwre is corrupted\n",
      "/kaggle/input/birdsong-recognition/train_audio/cangoo is corrupted\n",
      "/kaggle/input/birdsong-recognition/train_audio/blujay is corrupted\n",
      "/kaggle/input/birdsong-recognition/train_audio/houwre is corrupted"
     ]
    },
    {
     "name": "stderr",
     "output_type": "stream",
     "text": [
      "  3%|██▋                                                                            | 170/5000 [00:10<05:09, 15.60it/s]"
     ]
    },
    {
     "name": "stdout",
     "output_type": "stream",
     "text": [
      "\n",
      "/kaggle/input/birdsong-recognition/train_audio/herthr is corrupted\n",
      "/kaggle/input/birdsong-recognition/train_audio/buggna is corrupted\n",
      "/kaggle/input/birdsong-recognition/train_audio/wesmea is corrupted"
     ]
    },
    {
     "name": "stderr",
     "output_type": "stream",
     "text": [
      "  3%|██▋                                                                            | 174/5000 [00:11<05:09, 15.58it/s]"
     ]
    },
    {
     "name": "stdout",
     "output_type": "stream",
     "text": [
      "\n",
      "/kaggle/input/birdsong-recognition/train_audio/buggna is corrupted\n",
      "/kaggle/input/birdsong-recognition/train_audio/spotow is corrupted\n"
     ]
    },
    {
     "name": "stderr",
     "output_type": "stream",
     "text": [
      "  4%|██▊                                                                            | 176/5000 [00:11<05:10, 15.55it/s]"
     ]
    },
    {
     "name": "stdout",
     "output_type": "stream",
     "text": [
      "/kaggle/input/birdsong-recognition/train_audio/amered is corrupted\n",
      "/kaggle/input/birdsong-recognition/train_audio/houspa is corrupted\n",
      "/kaggle/input/birdsong-recognition/train_audio/comrav is corrupted\n",
      "/kaggle/input/birdsong-recognition/train_audio/barswa is corrupted"
     ]
    },
    {
     "name": "stderr",
     "output_type": "stream",
     "text": [
      "  4%|██▊                                                                            | 180/5000 [00:11<05:01, 15.97it/s]"
     ]
    },
    {
     "name": "stdout",
     "output_type": "stream",
     "text": [
      "\n",
      "/kaggle/input/birdsong-recognition/train_audio/eastow is corrupted\n",
      "/kaggle/input/birdsong-recognition/train_audio/redcro is corrupted\n",
      "/kaggle/input/birdsong-recognition/train_audio/tuftit is corrupted"
     ]
    },
    {
     "name": "stderr",
     "output_type": "stream",
     "text": [
      "  4%|██▉                                                                            | 182/5000 [00:11<05:09, 15.55it/s]"
     ]
    },
    {
     "name": "stdout",
     "output_type": "stream",
     "text": [
      "\n",
      "/kaggle/input/birdsong-recognition/train_audio/wesmea is corrupted\n",
      "/kaggle/input/birdsong-recognition/train_audio/bkhgro is corrupted\n",
      "/kaggle/input/birdsong-recognition/train_audio/orcwar is corrupted"
     ]
    },
    {
     "name": "stderr",
     "output_type": "stream",
     "text": [
      "  4%|██▉                                                                            | 186/5000 [00:11<05:07, 15.65it/s]"
     ]
    },
    {
     "name": "stdout",
     "output_type": "stream",
     "text": [
      "\n",
      "/kaggle/input/birdsong-recognition/train_audio/ovenbi1 is corrupted\n",
      "/kaggle/input/birdsong-recognition/train_audio/easmea is corrupted\n",
      "/kaggle/input/birdsong-recognition/train_audio/ovenbi1 is corrupted"
     ]
    },
    {
     "name": "stderr",
     "output_type": "stream",
     "text": [
      "  4%|███                                                                            | 190/5000 [00:12<05:03, 15.85it/s]"
     ]
    },
    {
     "name": "stdout",
     "output_type": "stream",
     "text": [
      "\n",
      "/kaggle/input/birdsong-recognition/train_audio/marwre is corrupted\n",
      "/kaggle/input/birdsong-recognition/train_audio/barswa is corrupted\n",
      "/kaggle/input/birdsong-recognition/train_audio/houspa is corrupted\n"
     ]
    },
    {
     "name": "stderr",
     "output_type": "stream",
     "text": [
      "  4%|███                                                                            | 192/5000 [00:12<05:06, 15.71it/s]"
     ]
    },
    {
     "name": "stdout",
     "output_type": "stream",
     "text": [
      "/kaggle/input/birdsong-recognition/train_audio/whtspa is corrupted\n",
      "/kaggle/input/birdsong-recognition/train_audio/wesmea is corrupted\n",
      "/kaggle/input/birdsong-recognition/train_audio/swathr is corrupted\n",
      "/kaggle/input/birdsong-recognition/train_audio/comrav is corrupted"
     ]
    },
    {
     "name": "stderr",
     "output_type": "stream",
     "text": [
      "  4%|███                                                                            | 196/5000 [00:12<05:05, 15.74it/s]"
     ]
    },
    {
     "name": "stdout",
     "output_type": "stream",
     "text": [
      "\n",
      "/kaggle/input/birdsong-recognition/train_audio/ovenbi1 is corrupted\n",
      "/kaggle/input/birdsong-recognition/train_audio/buggna is corrupted\n",
      "/kaggle/input/birdsong-recognition/train_audio/sonspa is corrupted"
     ]
    },
    {
     "name": "stderr",
     "output_type": "stream",
     "text": [
      "  4%|███▏                                                                           | 198/5000 [00:12<05:07, 15.60it/s]"
     ]
    },
    {
     "name": "stdout",
     "output_type": "stream",
     "text": [
      "\n",
      "/kaggle/input/birdsong-recognition/train_audio/spotow is corrupted\n",
      "/kaggle/input/birdsong-recognition/train_audio/comred is corrupted\n"
     ]
    },
    {
     "name": "stderr",
     "output_type": "stream",
     "text": [
      "  4%|███▏                                                                           | 202/5000 [00:12<05:06, 15.66it/s]"
     ]
    },
    {
     "name": "stdout",
     "output_type": "stream",
     "text": [
      "/kaggle/input/birdsong-recognition/train_audio/astfly is corrupted\n",
      "/kaggle/input/birdsong-recognition/train_audio/barswa is corrupted\n",
      "/kaggle/input/birdsong-recognition/train_audio/gnwtea is corrupted\n",
      "/kaggle/input/birdsong-recognition/train_audio/herthr is corrupted"
     ]
    },
    {
     "name": "stderr",
     "output_type": "stream",
     "text": [
      "  4%|███▏                                                                           | 204/5000 [00:13<05:07, 15.61it/s]"
     ]
    },
    {
     "name": "stdout",
     "output_type": "stream",
     "text": [
      "\n",
      "/kaggle/input/birdsong-recognition/train_audio/bkhgro is corrupted\n",
      "/kaggle/input/birdsong-recognition/train_audio/norfli is corrupted\n",
      "/kaggle/input/birdsong-recognition/train_audio/blujay is corrupted"
     ]
    },
    {
     "name": "stderr",
     "output_type": "stream",
     "text": [
      "  4%|███▎                                                                           | 208/5000 [00:13<05:06, 15.65it/s]"
     ]
    },
    {
     "name": "stdout",
     "output_type": "stream",
     "text": [
      "\n",
      "/kaggle/input/birdsong-recognition/train_audio/eastow is corrupted\n",
      "/kaggle/input/birdsong-recognition/train_audio/rewbla is corrupted\n",
      "/kaggle/input/birdsong-recognition/train_audio/comrav is corrupted"
     ]
    },
    {
     "name": "stderr",
     "output_type": "stream",
     "text": [
      "  4%|███▎                                                                           | 210/5000 [00:13<05:07, 15.56it/s]"
     ]
    },
    {
     "name": "stdout",
     "output_type": "stream",
     "text": [
      "\n",
      "/kaggle/input/birdsong-recognition/train_audio/sonspa is corrupted\n",
      "/kaggle/input/birdsong-recognition/train_audio/amered is corrupted\n",
      "/kaggle/input/birdsong-recognition/train_audio/sonspa is corrupted"
     ]
    },
    {
     "name": "stderr",
     "output_type": "stream",
     "text": [
      "  4%|███▍                                                                           | 214/5000 [00:13<05:08, 15.50it/s]"
     ]
    },
    {
     "name": "stdout",
     "output_type": "stream",
     "text": [
      "\n",
      "/kaggle/input/birdsong-recognition/train_audio/swathr is corrupted\n",
      "/kaggle/input/birdsong-recognition/train_audio/tuftit is corrupted\n",
      "/kaggle/input/birdsong-recognition/train_audio/horlar is corrupted"
     ]
    },
    {
     "name": "stderr",
     "output_type": "stream",
     "text": [
      "  4%|███▍                                                                           | 216/5000 [00:13<05:09, 15.45it/s]"
     ]
    },
    {
     "name": "stdout",
     "output_type": "stream",
     "text": [
      "\n",
      "/kaggle/input/birdsong-recognition/train_audio/barswa is corrupted\n",
      "/kaggle/input/birdsong-recognition/train_audio/chispa is corrupted\n"
     ]
    },
    {
     "name": "stderr",
     "output_type": "stream",
     "text": [
      "  4%|███▍                                                                           | 220/5000 [00:14<05:04, 15.69it/s]"
     ]
    },
    {
     "name": "stdout",
     "output_type": "stream",
     "text": [
      "/kaggle/input/birdsong-recognition/train_audio/wesmea is corrupted\n",
      "/kaggle/input/birdsong-recognition/train_audio/houspa is corrupted\n",
      "/kaggle/input/birdsong-recognition/train_audio/horlar is corrupted\n",
      "/kaggle/input/birdsong-recognition/train_audio/whcspa is corrupted\n"
     ]
    },
    {
     "name": "stderr",
     "output_type": "stream",
     "text": [
      "  4%|███▌                                                                           | 224/5000 [00:14<05:06, 15.56it/s]"
     ]
    },
    {
     "name": "stdout",
     "output_type": "stream",
     "text": [
      "/kaggle/input/birdsong-recognition/train_audio/orcwar is corrupted\n",
      "/kaggle/input/birdsong-recognition/train_audio/whbnut is corrupted\n",
      "/kaggle/input/birdsong-recognition/train_audio/comrav is corrupted\n",
      "/kaggle/input/birdsong-recognition/train_audio/redcro is corrupted\n"
     ]
    },
    {
     "name": "stderr",
     "output_type": "stream",
     "text": [
      "  5%|███▌                                                                           | 228/5000 [00:14<05:05, 15.64it/s]"
     ]
    },
    {
     "name": "stdout",
     "output_type": "stream",
     "text": [
      "/kaggle/input/birdsong-recognition/train_audio/savspa is corrupted\n",
      "/kaggle/input/birdsong-recognition/train_audio/linspa is corrupted\n",
      "/kaggle/input/birdsong-recognition/train_audio/herthr is corrupted\n",
      "/kaggle/input/birdsong-recognition/train_audio/houwre is corrupted\n"
     ]
    },
    {
     "name": "stderr",
     "output_type": "stream",
     "text": [
      "  5%|███▋                                                                           | 232/5000 [00:14<05:01, 15.80it/s]"
     ]
    },
    {
     "name": "stdout",
     "output_type": "stream",
     "text": [
      "/kaggle/input/birdsong-recognition/train_audio/barswa is corrupted\n",
      "/kaggle/input/birdsong-recognition/train_audio/amered is corrupted\n",
      "/kaggle/input/birdsong-recognition/train_audio/mallar3 is corrupted\n",
      "/kaggle/input/birdsong-recognition/train_audio/sonspa is corrupted"
     ]
    },
    {
     "name": "stderr",
     "output_type": "stream",
     "text": [
      "  5%|███▋                                                                           | 234/5000 [00:14<05:05, 15.60it/s]"
     ]
    }
   ],
   "source": [
    "%%time\n",
    "warnings.filterwarnings(\"ignore\")\n",
    "samples_df = pd.DataFrame(columns=[\"song_sample\",\"bird\"])\n",
    "\n",
    "#We limit the number of audio files being sampled to 6000 in this notebook to save time\n",
    "#However, we have already limited the number of bird species\n",
    "sample_limit = 5000\n",
    "sample_list = []\n",
    "with tqdm(total=sample_limit) as pbar:\n",
    "    for idx, row in train_df[:sample_limit].iterrows():\n",
    "        pbar.update(1)\n",
    "        try:\n",
    "            audio_file_path = \"./rawdata/train_audio/\"\n",
    "            audio_file_path += row.ebird_code\n",
    "            \n",
    "            if row.ebird_code in birds_to_recognise:\n",
    "                sample_list += get_sample('{}/{}'.format(audio_file_path, row.filename), row.ebird_code)\n",
    "            else:\n",
    "                sample_list += get_sample('{}/{}'.format(audio_file_path, row.filename), \"nocall\")\n",
    "        except:\n",
    "            print(\"{} is corrupted\".format(audio_file_path))\n",
    "            \n",
    "            \n",
    "#Generate some fake random samples to represent \"no calls\", being 5% of the total samples\n",
    "number_of_nocalls = int(len(samples_df)*0.05)\n",
    "for idx in range(0,number_of_nocalls):\n",
    "    synthetic_nocall = sklearn.preprocessing.minmax_scale(np.random.randn(sequence_length), axis=0)\n",
    "    sample_list += [{\"song_sample\":synthetic_nocall,\n",
    "                    \"bird\":ebird_to_id[\"nocall\"]}]\n",
    "    \n",
    "samples_df = pd.DataFrame(sample_list)"
   ]
  },
  {
   "cell_type": "code",
   "execution_count": null,
   "metadata": {},
   "outputs": [],
   "source": [
    "samples_df = shuffle(samples_df)\n",
    "samples_df[:10]"
   ]
  },
  {
   "cell_type": "code",
   "execution_count": null,
   "metadata": {},
   "outputs": [],
   "source": [
    "plt.plot(samples_df.iloc[0].song_sample)\n",
    "plt.show()"
   ]
  },
  {
   "cell_type": "markdown",
   "metadata": {},
   "source": [
    "# Model creation"
   ]
  },
  {
   "cell_type": "code",
   "execution_count": null,
   "metadata": {},
   "outputs": [],
   "source": [
    "training_percentage = 0.9\n",
    "training_item_count = int(len(samples_df)*training_percentage)\n",
    "validation_item_count = len(samples_df)-int(len(samples_df)*training_percentage)\n",
    "training_df = samples_df[:training_item_count]\n",
    "validation_df = samples_df[training_item_count:]"
   ]
  },
  {
   "cell_type": "markdown",
   "metadata": {},
   "source": [
    "Just a simple LSTM-based architecture that we will be able to improve later. Beside the LSTM layers and the Dense layer, the key elements is the input layer with 50 units representing the 50 data point of our 5s samples, and the output layer with the number of bird classes in our training set (+1 for \"nocall\").\n",
    "\n",
    "The architecture is mostly a placeholder as, as shown in this [post](https://www.kaggle.com/c/birdsong-recognition/discussion/158943) by [Nanashi](https://www.kaggle.com/jesucristo), CNN-based models may be more performant for such a problem.\n",
    "\n",
    "Also, I have realised that we can have several birds singing at the same time in our samples, which means that we will have to change the output layer and loss to have several possible outputs and not just one."
   ]
  },
  {
   "cell_type": "code",
   "execution_count": null,
   "metadata": {},
   "outputs": [],
   "source": [
    "model = Sequential()\n",
    "model.add(LSTM(32, return_sequences=True, recurrent_dropout=0.2,input_shape=(None, sequence_length)))\n",
    "model.add(LSTM(32))\n",
    "model.add(Dense(128))\n",
    "model.add(Dropout(0.3))\n",
    "model.add(Dense(len(ebird_to_id.keys()), activation=\"softmax\"))\n",
    "\n",
    "model.summary()"
   ]
  },
  {
   "cell_type": "code",
   "execution_count": null,
   "metadata": {},
   "outputs": [],
   "source": [
    "callbacks = [ReduceLROnPlateau(monitor='val_loss', patience=2, verbose=1, factor=0.7),\n",
    "             EarlyStopping(monitor='val_loss', patience=10),\n",
    "             ModelCheckpoint(filepath='best_model.h5', monitor='val_loss', save_best_only=True)]\n",
    "model.compile(loss=\"categorical_crossentropy\", optimizer='adam')"
   ]
  },
  {
   "cell_type": "markdown",
   "metadata": {},
   "source": [
    "This cell allows to format the data to feed it into the model, with the expected outputs being one-hot encoded. This needs to be cleaned up eventually. "
   ]
  },
  {
   "cell_type": "code",
   "execution_count": null,
   "metadata": {},
   "outputs": [],
   "source": [
    "X_train = np.asarray(np.reshape(np.asarray([np.asarray(x) for x in training_df[\"song_sample\"]]),(training_item_count,1,sequence_length))).astype(np.float32)\n",
    "groundtruth = np.asarray([np.asarray(x) for x in training_df[\"bird\"]]).astype(np.float32)\n",
    "Y_train = to_categorical(\n",
    "                groundtruth, num_classes=len(ebird_to_id.keys()), dtype='float32'\n",
    "            )\n",
    "\n",
    "\n",
    "X_validation = np.asarray(np.reshape(np.asarray([np.asarray(x) for x in validation_df[\"song_sample\"]]),(validation_item_count,1,sequence_length))).astype(np.float32)\n",
    "validation_groundtruth = np.asarray([np.asarray(x) for x in validation_df[\"bird\"]]).astype(np.float32)\n",
    "Y_validation = to_categorical(\n",
    "                validation_groundtruth, num_classes=len(ebird_to_id.keys()), dtype='float32'\n",
    "            )"
   ]
  },
  {
   "cell_type": "code",
   "execution_count": null,
   "metadata": {},
   "outputs": [],
   "source": [
    "class_weights = class_weight.compute_class_weight(\"balanced\", samples_df.bird.unique(), samples_df.bird.values)\n",
    "class_weights_dict = {i : class_weights[i] for i in samples_df.bird.unique()}"
   ]
  },
  {
   "cell_type": "markdown",
   "metadata": {},
   "source": [
    "# Model training"
   ]
  },
  {
   "cell_type": "code",
   "execution_count": null,
   "metadata": {},
   "outputs": [],
   "source": [
    "history = model.fit(X_train, Y_train,\n",
    "          epochs = 200, \n",
    "          batch_size = 32, \n",
    "          validation_data=(X_validation, Y_validation),\n",
    "          class_weight=class_weights_dict,\n",
    "          callbacks=callbacks)"
   ]
  },
  {
   "cell_type": "code",
   "execution_count": null,
   "metadata": {},
   "outputs": [],
   "source": [
    "plt.plot(history.history['loss'])\n",
    "plt.plot(history.history['val_loss'])\n",
    "plt.title('Loss over epochs')\n",
    "plt.ylabel('Loss')\n",
    "plt.xlabel('Epoch')\n",
    "plt.legend(['Train', 'Validation'], loc='best')\n",
    "plt.show()"
   ]
  },
  {
   "cell_type": "markdown",
   "metadata": {},
   "source": [
    "Running predictions on our validation set just to check if our model displays any anomalies."
   ]
  },
  {
   "cell_type": "code",
   "execution_count": null,
   "metadata": {},
   "outputs": [],
   "source": [
    "preds = model.predict(X_validation)\n",
    "validation_df = pd.DataFrame(columns=[\"prediction\", \"groundtruth\", \"correct_prediction\"])\n",
    "\n",
    "for pred, groundtruth in zip(preds[:30], Y_validation[:30]):\n",
    "    validation_df = validation_df.append({\"prediction\":id_to_ebird[np.argmax(pred)], \n",
    "                                       \"groundtruth\":id_to_ebird[np.argmax(groundtruth)], \n",
    "                                       \"correct_prediction\":np.argmax(pred)==np.argmax(groundtruth)}, ignore_index=True)\n",
    "validation_df"
   ]
  },
  {
   "cell_type": "markdown",
   "metadata": {},
   "source": [
    "# Predictions"
   ]
  },
  {
   "cell_type": "markdown",
   "metadata": {},
   "source": [
    "We load the weights for the best-performing model on our validation set."
   ]
  },
  {
   "cell_type": "code",
   "execution_count": null,
   "metadata": {},
   "outputs": [],
   "source": [
    "model.load_weights(\"best_model.h5\")"
   ]
  },
  {
   "cell_type": "markdown",
   "metadata": {},
   "source": [
    "As for the training samples, we will only load each audio file and predict on 5-second sequences. This prediction function ensures that we do not reload the .mp3 audio file for every sample as it would significantly increase the processing time. Then, it adds all the predictions to the `test_df` DataFrame before generating the submission file."
   ]
  },
  {
   "cell_type": "code",
   "execution_count": null,
   "metadata": {},
   "outputs": [],
   "source": [
    "def predict_submission(df, audio_file_path):\n",
    "        \n",
    "    loaded_audio_sample = []\n",
    "    previous_filename = \"\"\n",
    "    data_point_per_second = 10\n",
    "    sample_length = 5*data_point_per_second\n",
    "    wave_data = []\n",
    "    wave_rate = None\n",
    "    \n",
    "    for idx,row in df.iterrows():\n",
    "        #I added this exception as I've heard that some files may be corrupted.\n",
    "        try:\n",
    "            if previous_filename == \"\" or previous_filename!=row.audio_id:\n",
    "                filename = '{}/{}.mp3'.format(audio_file_path, row.audio_id)\n",
    "                wave_data, wave_rate = librosa.load(filename)\n",
    "                prepared_sample = wave_data[0::int(wave_rate/data_point_per_second)]\n",
    "                sample = sklearn.preprocessing.minmax_scale(prepared_sample, axis=0)\n",
    "            previous_filename = row.audio_id\n",
    "\n",
    "            #basically allows to check if we are running the examples or the test set.\n",
    "            if \"site\" in df.columns:\n",
    "                if row.site==\"site_1\" or row.site==\"site_2\":\n",
    "                    song_sample = np.array(sample[int(row.seconds-5)*data_point_per_second:int(row.seconds)*data_point_per_second])\n",
    "                elif row.site==\"site_3\":\n",
    "                    #for now, I only take the first 5s of the samples from site_3 as they are groundtruthed at file level\n",
    "                    song_sample = np.array(sample[0:sample_length])\n",
    "            else:\n",
    "                #same as the first condition but I isolated it for later and it is for the example file\n",
    "                song_sample = np.array(sample[int(row.seconds-5)*data_point_per_second:int(row.seconds)*data_point_per_second])\n",
    "            \n",
    "            input_data = np.reshape(np.asarray([song_sample]),(1,sequence_length)).astype(np.float32)\n",
    "            prediction = model.predict(np.array([input_data]))\n",
    "            \n",
    "            #condition to ensure that at least one output is activated with \"some\" confidence\n",
    "            if any(prediction[0]>0.3):\n",
    "                predicted_bird = id_to_ebird[np.argmax(prediction)]\n",
    "                df.at[idx,\"birds\"] = predicted_bird\n",
    "            else:\n",
    "                df.at[idx,\"birds\"] = \"nocall\"\n",
    "        except:\n",
    "            df.at[idx,\"birds\"] = \"nocall\"\n",
    "    return df"
   ]
  },
  {
   "cell_type": "markdown",
   "metadata": {},
   "source": [
    "Below, We can test our prediction function using the examples provided."
   ]
  },
  {
   "cell_type": "code",
   "execution_count": null,
   "metadata": {},
   "outputs": [],
   "source": [
    "audio_file_path = \"/kaggle/input/birdsong-recognition/example_test_audio\"\n",
    "example_df = pd.read_csv(\"/kaggle/input/birdsong-recognition/example_test_audio_summary.csv\")\n",
    "#Ajusting the example filenames and creating the audio_id column to match with the test file.\n",
    "example_df[\"audio_id\"] = [ \"BLKFR-10-CPL_20190611_093000.pt540\" if filename==\"BLKFR-10-CPL\" else \"ORANGE-7-CAP_20190606_093000.pt623\" for filename in example_df[\"filename\"]]\n",
    "\n",
    "if os.path.exists(audio_file_path):\n",
    "    example_df = predict_submission(example_df, audio_file_path)\n",
    "example_df"
   ]
  },
  {
   "cell_type": "code",
   "execution_count": null,
   "metadata": {},
   "outputs": [],
   "source": [
    "test_file_path = \"/kaggle/input/birdsong-recognition/test_audio\"\n",
    "test_df = pd.read_csv(\"/kaggle/input/birdsong-recognition/test.csv\")\n",
    "submission_df = pd.read_csv(\"/kaggle/input/birdsong-recognition/sample_submission.csv\")\n",
    "\n",
    "if os.path.exists(test_file_path):\n",
    "    submission_df = predict_submission(test_df, test_file_path)\n",
    "\n",
    "submission_df[[\"row_id\",\"birds\"]].to_csv('submission.csv', index=False)\n",
    "submission_df.head()"
   ]
  },
  {
   "cell_type": "markdown",
   "metadata": {},
   "source": [
    "### Thanks for reading this notebook! If you found this notebook helpful, please give it an upvote. It is always greatly appreciated!"
   ]
  }
 ],
 "metadata": {
  "kernelspec": {
   "display_name": "Python 3",
   "language": "python",
   "name": "python3"
  },
  "language_info": {
   "codemirror_mode": {
    "name": "ipython",
    "version": 3
   },
   "file_extension": ".py",
   "mimetype": "text/x-python",
   "name": "python",
   "nbconvert_exporter": "python",
   "pygments_lexer": "ipython3",
   "version": "3.8.3"
  }
 },
 "nbformat": 4,
 "nbformat_minor": 4
}
